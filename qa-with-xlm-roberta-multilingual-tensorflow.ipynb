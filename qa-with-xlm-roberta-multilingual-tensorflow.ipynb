{
 "cells": [
  {
   "cell_type": "markdown",
   "id": "09ca1b5e",
   "metadata": {
    "papermill": {
     "duration": 0.040287,
     "end_time": "2021-09-08T05:53:23.947163",
     "exception": false,
     "start_time": "2021-09-08T05:53:23.906876",
     "status": "completed"
    },
    "tags": []
   },
   "source": [
    "# Competition Overview:\n",
    "\n",
    "In this competition, the goal is to predict answers to real questions about Wikipedia articles. You will use chaii-1, a new question answering dataset with question-answer pairs. The dataset covers Hindi and Tamil, collected without the use of translation. It provides a realistic information-seeking task with questions written by native-speaking expert data annotators. "
   ]
  },
  {
   "cell_type": "markdown",
   "id": "d2275098",
   "metadata": {
    "papermill": {
     "duration": 0.039264,
     "end_time": "2021-09-08T05:53:24.027401",
     "exception": false,
     "start_time": "2021-09-08T05:53:23.988137",
     "status": "completed"
    },
    "tags": []
   },
   "source": [
    "\n",
    "# Competition Rules:\n",
    "- CPU Notebook <= 5 hours run-time\n",
    "-GPU Notebook <= 5 hours run-time\n",
    "-Internet access disabled\n",
    "- Freely & publicly available external data is allowed, including pre-trained models\n",
    "- Submission file must be named submission.csv"
   ]
  },
  {
   "cell_type": "markdown",
   "id": "dd8230da",
   "metadata": {
    "papermill": {
     "duration": 0.040535,
     "end_time": "2021-09-08T05:53:24.106911",
     "exception": false,
     "start_time": "2021-09-08T05:53:24.066376",
     "status": "completed"
    },
    "tags": []
   },
   "source": [
    "# Competition Metrics:\n",
    "The metric in this competition is the word-level Jaccard score\n",
    "\n",
    "`def jaccard(str1, str2): \n",
    "    a = set(str1.lower().split()) \n",
    "    b = set(str2.lower().split())\n",
    "    c = a.intersection(b)\n",
    "    return float(len(c)) / (len(a) + len(b) - len(c))`"
   ]
  },
  {
   "cell_type": "markdown",
   "id": "7b7f15a5",
   "metadata": {
    "papermill": {
     "duration": 0.038553,
     "end_time": "2021-09-08T05:53:24.185042",
     "exception": false,
     "start_time": "2021-09-08T05:53:24.146489",
     "status": "completed"
    },
    "tags": []
   },
   "source": [
    "### Ref:\n",
    "- https://keras.io/examples/nlp/text_extraction_with_bert/\n",
    "- https://github.com/huggingface/notebooks/blob/master/examples/question_answering.ipynb\n",
    "- https://www.kaggle.com/wchowdhu/hands-on-nli-w-transformers-m-bert-xlm-roberta#Data-Exploration-and-Analysis"
   ]
  },
  {
   "cell_type": "markdown",
   "id": "bd23d8af",
   "metadata": {
    "papermill": {
     "duration": 0.039006,
     "end_time": "2021-09-08T05:53:24.262699",
     "exception": false,
     "start_time": "2021-09-08T05:53:24.223693",
     "status": "completed"
    },
    "tags": []
   },
   "source": [
    "### External Datasets\n",
    "- This Notebook uses @rhtsingh's hindi dataset: [Hindi External](https://www.kaggle.com/rhtsingh/external-data-mlqa-xquad-preprocessing/data)\n",
    "- For Tamil, the dataset i have created: [Tamil External](https://www.kaggle.com/msafi04/squad-translated-to-tamil-for-chaii)"
   ]
  },
  {
   "cell_type": "code",
   "execution_count": 1,
   "id": "af92f439",
   "metadata": {
    "_cell_guid": "b1076dfc-b9ad-4769-8c92-a6c4dae69d19",
    "_uuid": "8f2839f25d086af736a60e9eeb907d3b93b6e0e5",
    "execution": {
     "iopub.execute_input": "2021-09-08T05:53:24.346320Z",
     "iopub.status.busy": "2021-09-08T05:53:24.344484Z",
     "iopub.status.idle": "2021-09-08T05:53:25.596504Z",
     "shell.execute_reply": "2021-09-08T05:53:25.595834Z",
     "shell.execute_reply.started": "2021-09-08T05:17:50.022541Z"
    },
    "papermill": {
     "duration": 1.295279,
     "end_time": "2021-09-08T05:53:25.596656",
     "exception": false,
     "start_time": "2021-09-08T05:53:24.301377",
     "status": "completed"
    },
    "tags": []
   },
   "outputs": [
    {
     "name": "stdout",
     "output_type": "stream",
     "text": [
      "['mlqa-hindi-processed', 'squad-translated-to-tamil-for-chaii', 'chaii-hindi-and-tamil-question-answering', 'jplu-tf-xlm-roberta-large']\n",
      "2021-09-08 05:53:25.590485\n"
     ]
    }
   ],
   "source": [
    "%matplotlib inline\n",
    "\n",
    "import numpy as np # linear algebra\n",
    "import pandas as pd # data processing, CSV file I/O (e.g. pd.read_csv)\n",
    "\n",
    "from tqdm import tqdm\n",
    "tqdm.pandas()\n",
    "\n",
    "import gc\n",
    "\n",
    "from sklearn.model_selection import StratifiedKFold\n",
    "\n",
    "import matplotlib.pyplot as plt\n",
    "import seaborn as sns\n",
    "from IPython.display import display\n",
    "\n",
    "from tqdm.auto import tqdm\n",
    "import collections\n",
    "\n",
    "import os\n",
    "\n",
    "from pathlib import Path\n",
    "\n",
    "import json\n",
    "\n",
    "plt.rcParams[\"figure.figsize\"] = (12, 8)\n",
    "plt.rcParams['axes.titlesize'] = 16\n",
    "sns.set_palette('Set3_r')\n",
    "\n",
    "pd.set_option(\"display.max_rows\", 20, \"display.max_columns\", None)\n",
    "\n",
    "print(os.listdir('../input/'))\n",
    "        \n",
    "from time import time, strftime, gmtime\n",
    "start = time()\n",
    "import datetime\n",
    "print(str(datetime.datetime.now()))\n",
    "\n",
    "import warnings\n",
    "warnings.simplefilter(action = 'ignore', category = Warning)"
   ]
  },
  {
   "cell_type": "code",
   "execution_count": 2,
   "id": "2248fec9",
   "metadata": {
    "execution": {
     "iopub.execute_input": "2021-09-08T05:53:25.682186Z",
     "iopub.status.busy": "2021-09-08T05:53:25.681418Z",
     "iopub.status.idle": "2021-09-08T05:53:26.524000Z",
     "shell.execute_reply": "2021-09-08T05:53:26.523418Z",
     "shell.execute_reply.started": "2021-09-08T05:17:51.209424Z"
    },
    "papermill": {
     "duration": 0.887665,
     "end_time": "2021-09-08T05:53:26.524155",
     "exception": false,
     "start_time": "2021-09-08T05:53:25.636490",
     "status": "completed"
    },
    "tags": []
   },
   "outputs": [
    {
     "name": "stdout",
     "output_type": "stream",
     "text": [
      "(1114, 6)\n"
     ]
    },
    {
     "data": {
      "text/html": [
       "<div>\n",
       "<style scoped>\n",
       "    .dataframe tbody tr th:only-of-type {\n",
       "        vertical-align: middle;\n",
       "    }\n",
       "\n",
       "    .dataframe tbody tr th {\n",
       "        vertical-align: top;\n",
       "    }\n",
       "\n",
       "    .dataframe thead th {\n",
       "        text-align: right;\n",
       "    }\n",
       "</style>\n",
       "<table border=\"1\" class=\"dataframe\">\n",
       "  <thead>\n",
       "    <tr style=\"text-align: right;\">\n",
       "      <th></th>\n",
       "      <th>id</th>\n",
       "      <th>context</th>\n",
       "      <th>question</th>\n",
       "      <th>answer_text</th>\n",
       "      <th>answer_start</th>\n",
       "      <th>language</th>\n",
       "    </tr>\n",
       "  </thead>\n",
       "  <tbody>\n",
       "    <tr>\n",
       "      <th>0</th>\n",
       "      <td>903deec17</td>\n",
       "      <td>ஒரு சாதாரண வளர்ந்த மனிதனுடைய எலும்புக்கூடு பின...</td>\n",
       "      <td>மனித உடலில் எத்தனை எலும்புகள் உள்ளன?</td>\n",
       "      <td>206</td>\n",
       "      <td>53</td>\n",
       "      <td>tamil</td>\n",
       "    </tr>\n",
       "    <tr>\n",
       "      <th>1</th>\n",
       "      <td>d9841668c</td>\n",
       "      <td>காளிதாசன் (தேவநாகரி: कालिदास) சமஸ்கிருத இலக்கி...</td>\n",
       "      <td>காளிதாசன் எங்கு பிறந்தார்?</td>\n",
       "      <td>காசுமீரில்</td>\n",
       "      <td>2358</td>\n",
       "      <td>tamil</td>\n",
       "    </tr>\n",
       "    <tr>\n",
       "      <th>2</th>\n",
       "      <td>29d154b56</td>\n",
       "      <td>சர் அலெக்ஸாண்டர் ஃபிளெமிங் (Sir Alexander Flem...</td>\n",
       "      <td>பென்சிலின் கண்டுபிடித்தவர் யார்?</td>\n",
       "      <td>சர் அலெக்ஸாண்டர் ஃபிளெமிங்</td>\n",
       "      <td>0</td>\n",
       "      <td>tamil</td>\n",
       "    </tr>\n",
       "    <tr>\n",
       "      <th>3</th>\n",
       "      <td>41660850a</td>\n",
       "      <td>குழந்தையின் அழுகையை  நிறுத்தவும், தூங்க வைக்கவ...</td>\n",
       "      <td>தமிழ்நாட்டில் குழந்தைகளை தூங்க வைக்க பாடும் பா...</td>\n",
       "      <td>தாலாட்டு</td>\n",
       "      <td>68</td>\n",
       "      <td>tamil</td>\n",
       "    </tr>\n",
       "    <tr>\n",
       "      <th>4</th>\n",
       "      <td>b29c82c22</td>\n",
       "      <td>சூரியக் குடும்பம் \\nசூரியக் குடும்பம் (Solar S...</td>\n",
       "      <td>பூமியின் அருகில் உள்ள விண்மீன் எது?</td>\n",
       "      <td>சூரியனும்</td>\n",
       "      <td>585</td>\n",
       "      <td>tamil</td>\n",
       "    </tr>\n",
       "  </tbody>\n",
       "</table>\n",
       "</div>"
      ],
      "text/plain": [
       "          id                                            context  \\\n",
       "0  903deec17  ஒரு சாதாரண வளர்ந்த மனிதனுடைய எலும்புக்கூடு பின...   \n",
       "1  d9841668c  காளிதாசன் (தேவநாகரி: कालिदास) சமஸ்கிருத இலக்கி...   \n",
       "2  29d154b56  சர் அலெக்ஸாண்டர் ஃபிளெமிங் (Sir Alexander Flem...   \n",
       "3  41660850a  குழந்தையின் அழுகையை  நிறுத்தவும், தூங்க வைக்கவ...   \n",
       "4  b29c82c22  சூரியக் குடும்பம் \\nசூரியக் குடும்பம் (Solar S...   \n",
       "\n",
       "                                            question  \\\n",
       "0               மனித உடலில் எத்தனை எலும்புகள் உள்ளன?   \n",
       "1                         காளிதாசன் எங்கு பிறந்தார்?   \n",
       "2                   பென்சிலின் கண்டுபிடித்தவர் யார்?   \n",
       "3  தமிழ்நாட்டில் குழந்தைகளை தூங்க வைக்க பாடும் பா...   \n",
       "4                பூமியின் அருகில் உள்ள விண்மீன் எது?   \n",
       "\n",
       "                  answer_text  answer_start language  \n",
       "0                         206            53    tamil  \n",
       "1                  காசுமீரில்          2358    tamil  \n",
       "2  சர் அலெக்ஸாண்டர் ஃபிளெமிங்             0    tamil  \n",
       "3                    தாலாட்டு            68    tamil  \n",
       "4                   சூரியனும்           585    tamil  "
      ]
     },
     "execution_count": 2,
     "metadata": {},
     "output_type": "execute_result"
    }
   ],
   "source": [
    "train = pd.read_csv('/kaggle/input/chaii-hindi-and-tamil-question-answering/train.csv')\n",
    "print(train.shape)\n",
    "train.head()"
   ]
  },
  {
   "cell_type": "code",
   "execution_count": 3,
   "id": "e7cbf594",
   "metadata": {
    "execution": {
     "iopub.execute_input": "2021-09-08T05:53:26.609587Z",
     "iopub.status.busy": "2021-09-08T05:53:26.608941Z",
     "iopub.status.idle": "2021-09-08T05:53:26.634552Z",
     "shell.execute_reply": "2021-09-08T05:53:26.635118Z",
     "shell.execute_reply.started": "2021-09-08T05:17:52.172358Z"
    },
    "papermill": {
     "duration": 0.070861,
     "end_time": "2021-09-08T05:53:26.635295",
     "exception": false,
     "start_time": "2021-09-08T05:53:26.564434",
     "status": "completed"
    },
    "tags": []
   },
   "outputs": [
    {
     "name": "stdout",
     "output_type": "stream",
     "text": [
      "(5, 4)\n"
     ]
    },
    {
     "data": {
      "text/html": [
       "<div>\n",
       "<style scoped>\n",
       "    .dataframe tbody tr th:only-of-type {\n",
       "        vertical-align: middle;\n",
       "    }\n",
       "\n",
       "    .dataframe tbody tr th {\n",
       "        vertical-align: top;\n",
       "    }\n",
       "\n",
       "    .dataframe thead th {\n",
       "        text-align: right;\n",
       "    }\n",
       "</style>\n",
       "<table border=\"1\" class=\"dataframe\">\n",
       "  <thead>\n",
       "    <tr style=\"text-align: right;\">\n",
       "      <th></th>\n",
       "      <th>id</th>\n",
       "      <th>context</th>\n",
       "      <th>question</th>\n",
       "      <th>language</th>\n",
       "    </tr>\n",
       "  </thead>\n",
       "  <tbody>\n",
       "    <tr>\n",
       "      <th>0</th>\n",
       "      <td>22bff3dec</td>\n",
       "      <td>ज्वाला गुट्टा (जन्म: 7 सितंबर 1983; वर्धा, महा...</td>\n",
       "      <td>ज्वाला गुट्टा की माँ का नाम क्या है</td>\n",
       "      <td>hindi</td>\n",
       "    </tr>\n",
       "    <tr>\n",
       "      <th>1</th>\n",
       "      <td>282758170</td>\n",
       "      <td>गूगल मानचित्र (Google Maps) (पूर्व में गूगल लो...</td>\n",
       "      <td>गूगल मैप्स कब लॉन्च किया गया था?</td>\n",
       "      <td>hindi</td>\n",
       "    </tr>\n",
       "    <tr>\n",
       "      <th>2</th>\n",
       "      <td>d60987e0e</td>\n",
       "      <td>गुस्ताव रॉबर्ट किरचॉफ़ (१२ मार्च १८२४ - १७ अक्...</td>\n",
       "      <td>गुस्ताव किरचॉफ का जन्म कब हुआ था?</td>\n",
       "      <td>hindi</td>\n",
       "    </tr>\n",
       "    <tr>\n",
       "      <th>3</th>\n",
       "      <td>f99c770dc</td>\n",
       "      <td>அலுமினியம் (ஆங்கிலம்: அலுமினியம்; வட அமெரிக்க ...</td>\n",
       "      <td>அலுமினியத்தின் அணு எண் என்ன?</td>\n",
       "      <td>tamil</td>\n",
       "    </tr>\n",
       "    <tr>\n",
       "      <th>4</th>\n",
       "      <td>40dec1964</td>\n",
       "      <td>கூட்டுறவு இயக்க வரலாறு, இங்கிலாந்து  நாட்டில் ...</td>\n",
       "      <td>இந்தியாவில் பசுமை புரட்சியின் தந்தை என்று கருத...</td>\n",
       "      <td>tamil</td>\n",
       "    </tr>\n",
       "  </tbody>\n",
       "</table>\n",
       "</div>"
      ],
      "text/plain": [
       "          id                                            context  \\\n",
       "0  22bff3dec  ज्वाला गुट्टा (जन्म: 7 सितंबर 1983; वर्धा, महा...   \n",
       "1  282758170  गूगल मानचित्र (Google Maps) (पूर्व में गूगल लो...   \n",
       "2  d60987e0e  गुस्ताव रॉबर्ट किरचॉफ़ (१२ मार्च १८२४ - १७ अक्...   \n",
       "3  f99c770dc  அலுமினியம் (ஆங்கிலம்: அலுமினியம்; வட அமெரிக்க ...   \n",
       "4  40dec1964  கூட்டுறவு இயக்க வரலாறு, இங்கிலாந்து  நாட்டில் ...   \n",
       "\n",
       "                                            question language  \n",
       "0                ज्वाला गुट्टा की माँ का नाम क्या है    hindi  \n",
       "1                   गूगल मैप्स कब लॉन्च किया गया था?    hindi  \n",
       "2                  गुस्ताव किरचॉफ का जन्म कब हुआ था?    hindi  \n",
       "3                       அலுமினியத்தின் அணு எண் என்ன?    tamil  \n",
       "4  இந்தியாவில் பசுமை புரட்சியின் தந்தை என்று கருத...    tamil  "
      ]
     },
     "execution_count": 3,
     "metadata": {},
     "output_type": "execute_result"
    }
   ],
   "source": [
    "test = pd.read_csv('/kaggle/input/chaii-hindi-and-tamil-question-answering/test.csv')\n",
    "print(test.shape)\n",
    "test.head()"
   ]
  },
  {
   "cell_type": "code",
   "execution_count": 4,
   "id": "038c8f7b",
   "metadata": {
    "execution": {
     "iopub.execute_input": "2021-09-08T05:53:26.723518Z",
     "iopub.status.busy": "2021-09-08T05:53:26.722740Z",
     "iopub.status.idle": "2021-09-08T05:53:26.741811Z",
     "shell.execute_reply": "2021-09-08T05:53:26.741290Z",
     "shell.execute_reply.started": "2021-09-08T05:17:52.201125Z"
    },
    "papermill": {
     "duration": 0.065137,
     "end_time": "2021-09-08T05:53:26.741978",
     "exception": false,
     "start_time": "2021-09-08T05:53:26.676841",
     "status": "completed"
    },
    "tags": []
   },
   "outputs": [
    {
     "name": "stdout",
     "output_type": "stream",
     "text": [
      "(5, 2)\n"
     ]
    },
    {
     "data": {
      "text/html": [
       "<div>\n",
       "<style scoped>\n",
       "    .dataframe tbody tr th:only-of-type {\n",
       "        vertical-align: middle;\n",
       "    }\n",
       "\n",
       "    .dataframe tbody tr th {\n",
       "        vertical-align: top;\n",
       "    }\n",
       "\n",
       "    .dataframe thead th {\n",
       "        text-align: right;\n",
       "    }\n",
       "</style>\n",
       "<table border=\"1\" class=\"dataframe\">\n",
       "  <thead>\n",
       "    <tr style=\"text-align: right;\">\n",
       "      <th></th>\n",
       "      <th>id</th>\n",
       "      <th>PredictionString</th>\n",
       "    </tr>\n",
       "  </thead>\n",
       "  <tbody>\n",
       "    <tr>\n",
       "      <th>0</th>\n",
       "      <td>22bff3dec</td>\n",
       "      <td>NaN</td>\n",
       "    </tr>\n",
       "    <tr>\n",
       "      <th>1</th>\n",
       "      <td>282758170</td>\n",
       "      <td>NaN</td>\n",
       "    </tr>\n",
       "    <tr>\n",
       "      <th>2</th>\n",
       "      <td>d60987e0e</td>\n",
       "      <td>NaN</td>\n",
       "    </tr>\n",
       "    <tr>\n",
       "      <th>3</th>\n",
       "      <td>f99c770dc</td>\n",
       "      <td>NaN</td>\n",
       "    </tr>\n",
       "    <tr>\n",
       "      <th>4</th>\n",
       "      <td>40dec1964</td>\n",
       "      <td>NaN</td>\n",
       "    </tr>\n",
       "  </tbody>\n",
       "</table>\n",
       "</div>"
      ],
      "text/plain": [
       "          id  PredictionString\n",
       "0  22bff3dec               NaN\n",
       "1  282758170               NaN\n",
       "2  d60987e0e               NaN\n",
       "3  f99c770dc               NaN\n",
       "4  40dec1964               NaN"
      ]
     },
     "execution_count": 4,
     "metadata": {},
     "output_type": "execute_result"
    }
   ],
   "source": [
    "sub = pd.read_csv('/kaggle/input/chaii-hindi-and-tamil-question-answering/sample_submission.csv')\n",
    "print(sub.shape)\n",
    "sub.head()"
   ]
  },
  {
   "cell_type": "code",
   "execution_count": 5,
   "id": "d18aa4f0",
   "metadata": {
    "_kg_hide-input": true,
    "execution": {
     "iopub.execute_input": "2021-09-08T05:53:26.831042Z",
     "iopub.status.busy": "2021-09-08T05:53:26.830350Z",
     "iopub.status.idle": "2021-09-08T05:53:27.212121Z",
     "shell.execute_reply": "2021-09-08T05:53:27.211576Z",
     "shell.execute_reply.started": "2021-09-08T05:17:52.220975Z"
    },
    "papermill": {
     "duration": 0.428418,
     "end_time": "2021-09-08T05:53:27.212270",
     "exception": false,
     "start_time": "2021-09-08T05:53:26.783852",
     "status": "completed"
    },
    "tags": []
   },
   "outputs": [
    {
     "name": "stdout",
     "output_type": "stream",
     "text": [
      "(5425, 5)\n"
     ]
    },
    {
     "data": {
      "text/html": [
       "<div>\n",
       "<style scoped>\n",
       "    .dataframe tbody tr th:only-of-type {\n",
       "        vertical-align: middle;\n",
       "    }\n",
       "\n",
       "    .dataframe tbody tr th {\n",
       "        vertical-align: top;\n",
       "    }\n",
       "\n",
       "    .dataframe thead th {\n",
       "        text-align: right;\n",
       "    }\n",
       "</style>\n",
       "<table border=\"1\" class=\"dataframe\">\n",
       "  <thead>\n",
       "    <tr style=\"text-align: right;\">\n",
       "      <th></th>\n",
       "      <th>context</th>\n",
       "      <th>question</th>\n",
       "      <th>answer_text</th>\n",
       "      <th>answer_start</th>\n",
       "      <th>language</th>\n",
       "    </tr>\n",
       "  </thead>\n",
       "  <tbody>\n",
       "    <tr>\n",
       "      <th>0</th>\n",
       "      <td>पैरेनकाइमा कोशिकाएं वे जीवित कोशिकाएं हैं जो स...</td>\n",
       "      <td>एक प्रकार की रस्सी का नाम बताईए जो सेलेरी के क...</td>\n",
       "      <td>कोलेन्काइमा</td>\n",
       "      <td>2267</td>\n",
       "      <td>hindi</td>\n",
       "    </tr>\n",
       "    <tr>\n",
       "      <th>1</th>\n",
       "      <td>पैरेनकाइमा कोशिकाएं वे जीवित कोशिकाएं हैं जो स...</td>\n",
       "      <td>क्या चीज पूरी तरह से पैरेनकाइमा कोशिकाओं से बन...</td>\n",
       "      <td>पत्तियां</td>\n",
       "      <td>158</td>\n",
       "      <td>hindi</td>\n",
       "    </tr>\n",
       "  </tbody>\n",
       "</table>\n",
       "</div>"
      ],
      "text/plain": [
       "                                             context  \\\n",
       "0  पैरेनकाइमा कोशिकाएं वे जीवित कोशिकाएं हैं जो स...   \n",
       "1  पैरेनकाइमा कोशिकाएं वे जीवित कोशिकाएं हैं जो स...   \n",
       "\n",
       "                                            question  answer_text  \\\n",
       "0  एक प्रकार की रस्सी का नाम बताईए जो सेलेरी के क...  कोलेन्काइमा   \n",
       "1  क्या चीज पूरी तरह से पैरेनकाइमा कोशिकाओं से बन...     पत्तियां   \n",
       "\n",
       "   answer_start language  \n",
       "0          2267    hindi  \n",
       "1           158    hindi  "
      ]
     },
     "execution_count": 5,
     "metadata": {},
     "output_type": "execute_result"
    }
   ],
   "source": [
    "external_hindi1 = pd.read_csv('/kaggle/input/mlqa-hindi-processed/mlqa_hindi.csv')\n",
    "print(external_hindi1.shape)\n",
    "external_hindi1.head(2)"
   ]
  },
  {
   "cell_type": "code",
   "execution_count": 6,
   "id": "6b2d28de",
   "metadata": {
    "_kg_hide-input": true,
    "execution": {
     "iopub.execute_input": "2021-09-08T05:53:27.303739Z",
     "iopub.status.busy": "2021-09-08T05:53:27.303060Z",
     "iopub.status.idle": "2021-09-08T05:53:27.384307Z",
     "shell.execute_reply": "2021-09-08T05:53:27.384781Z",
     "shell.execute_reply.started": "2021-09-08T05:17:52.629746Z"
    },
    "papermill": {
     "duration": 0.129513,
     "end_time": "2021-09-08T05:53:27.384979",
     "exception": false,
     "start_time": "2021-09-08T05:53:27.255466",
     "status": "completed"
    },
    "tags": []
   },
   "outputs": [
    {
     "name": "stdout",
     "output_type": "stream",
     "text": [
      "(1190, 5)\n"
     ]
    },
    {
     "data": {
      "text/html": [
       "<div>\n",
       "<style scoped>\n",
       "    .dataframe tbody tr th:only-of-type {\n",
       "        vertical-align: middle;\n",
       "    }\n",
       "\n",
       "    .dataframe tbody tr th {\n",
       "        vertical-align: top;\n",
       "    }\n",
       "\n",
       "    .dataframe thead th {\n",
       "        text-align: right;\n",
       "    }\n",
       "</style>\n",
       "<table border=\"1\" class=\"dataframe\">\n",
       "  <thead>\n",
       "    <tr style=\"text-align: right;\">\n",
       "      <th></th>\n",
       "      <th>context</th>\n",
       "      <th>question</th>\n",
       "      <th>answer_text</th>\n",
       "      <th>answer_start</th>\n",
       "      <th>language</th>\n",
       "    </tr>\n",
       "  </thead>\n",
       "  <tbody>\n",
       "    <tr>\n",
       "      <th>0</th>\n",
       "      <td>पैंथर्स की डिफ़ेन्स ने लीग में केवल 308 अंक दिए...</td>\n",
       "      <td>पैंथर्स डिफ़ेंस ने कितने अंक दिए?</td>\n",
       "      <td>308</td>\n",
       "      <td>35</td>\n",
       "      <td>hindi</td>\n",
       "    </tr>\n",
       "    <tr>\n",
       "      <th>1</th>\n",
       "      <td>पैंथर्स की डिफ़ेन्स ने लीग में केवल 308 अंक दिए...</td>\n",
       "      <td>जेरेड एलन के पास कितने करियर सैक थे?</td>\n",
       "      <td>136</td>\n",
       "      <td>380</td>\n",
       "      <td>hindi</td>\n",
       "    </tr>\n",
       "  </tbody>\n",
       "</table>\n",
       "</div>"
      ],
      "text/plain": [
       "                                             context  \\\n",
       "0  पैंथर्स की डिफ़ेन्स ने लीग में केवल 308 अंक दिए...   \n",
       "1  पैंथर्स की डिफ़ेन्स ने लीग में केवल 308 अंक दिए...   \n",
       "\n",
       "                               question answer_text  answer_start language  \n",
       "0      पैंथर्स डिफ़ेंस ने कितने अंक दिए?         308            35    hindi  \n",
       "1  जेरेड एलन के पास कितने करियर सैक थे?         136           380    hindi  "
      ]
     },
     "execution_count": 6,
     "metadata": {},
     "output_type": "execute_result"
    }
   ],
   "source": [
    "external_hindi2 = pd.read_csv('/kaggle/input/mlqa-hindi-processed/xquad.csv')\n",
    "print(external_hindi2.shape)\n",
    "external_hindi2.head(2)"
   ]
  },
  {
   "cell_type": "code",
   "execution_count": 7,
   "id": "9532397a",
   "metadata": {
    "_kg_hide-input": true,
    "execution": {
     "iopub.execute_input": "2021-09-08T05:53:27.477596Z",
     "iopub.status.busy": "2021-09-08T05:53:27.476884Z",
     "iopub.status.idle": "2021-09-08T05:53:27.493626Z",
     "shell.execute_reply": "2021-09-08T05:53:27.493094Z",
     "shell.execute_reply.started": "2021-09-08T05:17:52.722226Z"
    },
    "papermill": {
     "duration": 0.065072,
     "end_time": "2021-09-08T05:53:27.493776",
     "exception": false,
     "start_time": "2021-09-08T05:53:27.428704",
     "status": "completed"
    },
    "tags": []
   },
   "outputs": [
    {
     "name": "stdout",
     "output_type": "stream",
     "text": [
      "External hindi dataset...\n",
      "(6615, 5)\n"
     ]
    },
    {
     "data": {
      "text/html": [
       "<div>\n",
       "<style scoped>\n",
       "    .dataframe tbody tr th:only-of-type {\n",
       "        vertical-align: middle;\n",
       "    }\n",
       "\n",
       "    .dataframe tbody tr th {\n",
       "        vertical-align: top;\n",
       "    }\n",
       "\n",
       "    .dataframe thead th {\n",
       "        text-align: right;\n",
       "    }\n",
       "</style>\n",
       "<table border=\"1\" class=\"dataframe\">\n",
       "  <thead>\n",
       "    <tr style=\"text-align: right;\">\n",
       "      <th></th>\n",
       "      <th>context</th>\n",
       "      <th>question</th>\n",
       "      <th>answer_text</th>\n",
       "      <th>answer_start</th>\n",
       "      <th>language</th>\n",
       "    </tr>\n",
       "  </thead>\n",
       "  <tbody>\n",
       "    <tr>\n",
       "      <th>0</th>\n",
       "      <td>पैरेनकाइमा कोशिकाएं वे जीवित कोशिकाएं हैं जो स...</td>\n",
       "      <td>एक प्रकार की रस्सी का नाम बताईए जो सेलेरी के क...</td>\n",
       "      <td>कोलेन्काइमा</td>\n",
       "      <td>2267</td>\n",
       "      <td>hindi</td>\n",
       "    </tr>\n",
       "    <tr>\n",
       "      <th>1</th>\n",
       "      <td>पैरेनकाइमा कोशिकाएं वे जीवित कोशिकाएं हैं जो स...</td>\n",
       "      <td>क्या चीज पूरी तरह से पैरेनकाइमा कोशिकाओं से बन...</td>\n",
       "      <td>पत्तियां</td>\n",
       "      <td>158</td>\n",
       "      <td>hindi</td>\n",
       "    </tr>\n",
       "    <tr>\n",
       "      <th>2</th>\n",
       "      <td>जाइलेम कोशिकाएं कोशिका भित्तियों की लिग्निकृत ...</td>\n",
       "      <td>जाइलेम किस प्रकार के पौधों में पाया जाता है?</td>\n",
       "      <td>ट्रेकियोफाइटों</td>\n",
       "      <td>292</td>\n",
       "      <td>hindi</td>\n",
       "    </tr>\n",
       "    <tr>\n",
       "      <th>3</th>\n",
       "      <td>फ्लोएम उच्चतर पौधों में आहार का संवहन करने वाल...</td>\n",
       "      <td>लेप्टोम क्या है?\\n</td>\n",
       "      <td>समान कार्य करने वाला एक अधिक सरल ऊतक</td>\n",
       "      <td>969</td>\n",
       "      <td>hindi</td>\n",
       "    </tr>\n",
       "    <tr>\n",
       "      <th>4</th>\n",
       "      <td>सभी हवाई अवयवों की बाह्यत्वचा, जड़ों को छोड़कर...</td>\n",
       "      <td>बाह्यत्वचा की कोशिकाएं क्या कर सकती हैं?</td>\n",
       "      <td>क्यटिन का संश्लेषण</td>\n",
       "      <td>433</td>\n",
       "      <td>hindi</td>\n",
       "    </tr>\n",
       "  </tbody>\n",
       "</table>\n",
       "</div>"
      ],
      "text/plain": [
       "                                             context  \\\n",
       "0  पैरेनकाइमा कोशिकाएं वे जीवित कोशिकाएं हैं जो स...   \n",
       "1  पैरेनकाइमा कोशिकाएं वे जीवित कोशिकाएं हैं जो स...   \n",
       "2  जाइलेम कोशिकाएं कोशिका भित्तियों की लिग्निकृत ...   \n",
       "3  फ्लोएम उच्चतर पौधों में आहार का संवहन करने वाल...   \n",
       "4  सभी हवाई अवयवों की बाह्यत्वचा, जड़ों को छोड़कर...   \n",
       "\n",
       "                                            question  \\\n",
       "0  एक प्रकार की रस्सी का नाम बताईए जो सेलेरी के क...   \n",
       "1  क्या चीज पूरी तरह से पैरेनकाइमा कोशिकाओं से बन...   \n",
       "2       जाइलेम किस प्रकार के पौधों में पाया जाता है?   \n",
       "3                                 लेप्टोम क्या है?\\n   \n",
       "4           बाह्यत्वचा की कोशिकाएं क्या कर सकती हैं?   \n",
       "\n",
       "                            answer_text  answer_start language  \n",
       "0                           कोलेन्काइमा          2267    hindi  \n",
       "1                              पत्तियां           158    hindi  \n",
       "2                        ट्रेकियोफाइटों           292    hindi  \n",
       "3  समान कार्य करने वाला एक अधिक सरल ऊतक           969    hindi  \n",
       "4                    क्यटिन का संश्लेषण           433    hindi  "
      ]
     },
     "execution_count": 7,
     "metadata": {},
     "output_type": "execute_result"
    }
   ],
   "source": [
    "print('External hindi dataset...')\n",
    "external_hindi = pd.concat([external_hindi1, external_hindi2])\n",
    "print(external_hindi.shape)\n",
    "external_hindi.head()"
   ]
  },
  {
   "cell_type": "code",
   "execution_count": 8,
   "id": "385e079a",
   "metadata": {
    "_kg_hide-input": true,
    "execution": {
     "iopub.execute_input": "2021-09-08T05:53:27.588031Z",
     "iopub.status.busy": "2021-09-08T05:53:27.587359Z",
     "iopub.status.idle": "2021-09-08T05:53:27.840257Z",
     "shell.execute_reply": "2021-09-08T05:53:27.840744Z",
     "shell.execute_reply.started": "2021-09-08T05:17:52.739215Z"
    },
    "papermill": {
     "duration": 0.302724,
     "end_time": "2021-09-08T05:53:27.840942",
     "exception": false,
     "start_time": "2021-09-08T05:53:27.538218",
     "status": "completed"
    },
    "tags": []
   },
   "outputs": [
    {
     "name": "stdout",
     "output_type": "stream",
     "text": [
      "External Tamil dataset...\n",
      "(3567, 5)\n"
     ]
    },
    {
     "data": {
      "text/html": [
       "<div>\n",
       "<style scoped>\n",
       "    .dataframe tbody tr th:only-of-type {\n",
       "        vertical-align: middle;\n",
       "    }\n",
       "\n",
       "    .dataframe tbody tr th {\n",
       "        vertical-align: top;\n",
       "    }\n",
       "\n",
       "    .dataframe thead th {\n",
       "        text-align: right;\n",
       "    }\n",
       "</style>\n",
       "<table border=\"1\" class=\"dataframe\">\n",
       "  <thead>\n",
       "    <tr style=\"text-align: right;\">\n",
       "      <th></th>\n",
       "      <th>context</th>\n",
       "      <th>question</th>\n",
       "      <th>answer_text</th>\n",
       "      <th>answer_start</th>\n",
       "      <th>language</th>\n",
       "    </tr>\n",
       "  </thead>\n",
       "  <tbody>\n",
       "    <tr>\n",
       "      <th>0</th>\n",
       "      <td>மாகாணமானது பாரம்பரியமாக \"மீன் மற்றும் அரிசி நி...</td>\n",
       "      <td>மாகாணத்தின் இரண்டாவது முக்கிய பயிர் என்ன?</td>\n",
       "      <td>கோதுமை</td>\n",
       "      <td>133.0</td>\n",
       "      <td>tamil</td>\n",
       "    </tr>\n",
       "    <tr>\n",
       "      <th>1</th>\n",
       "      <td>Gregorian சீர்திருத்தம் இரண்டு பகுதிகளைக் கொண்...</td>\n",
       "      <td>சந்திர காலண்டரைப் பயன்படுத்தி என்ன கணக்கிடப்பட...</td>\n",
       "      <td>ஈஸ்டர் தேதி</td>\n",
       "      <td>219.0</td>\n",
       "      <td>tamil</td>\n",
       "    </tr>\n",
       "  </tbody>\n",
       "</table>\n",
       "</div>"
      ],
      "text/plain": [
       "                                             context  \\\n",
       "0  மாகாணமானது பாரம்பரியமாக \"மீன் மற்றும் அரிசி நி...   \n",
       "1  Gregorian சீர்திருத்தம் இரண்டு பகுதிகளைக் கொண்...   \n",
       "\n",
       "                                            question  answer_text  \\\n",
       "0          மாகாணத்தின் இரண்டாவது முக்கிய பயிர் என்ன?       கோதுமை   \n",
       "1  சந்திர காலண்டரைப் பயன்படுத்தி என்ன கணக்கிடப்பட...  ஈஸ்டர் தேதி   \n",
       "\n",
       "   answer_start language  \n",
       "0         133.0    tamil  \n",
       "1         219.0    tamil  "
      ]
     },
     "execution_count": 8,
     "metadata": {},
     "output_type": "execute_result"
    }
   ],
   "source": [
    "print('External Tamil dataset...')\n",
    "external_tamil = pd.read_csv('/kaggle/input/squad-translated-to-tamil-for-chaii/squad_translated_tamil.csv')\n",
    "external_tamil['language'] = 'tamil'\n",
    "print(external_tamil.shape)\n",
    "external_tamil.head(2)"
   ]
  },
  {
   "cell_type": "code",
   "execution_count": 9,
   "id": "84713a70",
   "metadata": {
    "execution": {
     "iopub.execute_input": "2021-09-08T05:53:27.940356Z",
     "iopub.status.busy": "2021-09-08T05:53:27.939641Z",
     "iopub.status.idle": "2021-09-08T05:53:27.963828Z",
     "shell.execute_reply": "2021-09-08T05:53:27.963333Z",
     "shell.execute_reply.started": "2021-09-08T05:17:52.982724Z"
    },
    "papermill": {
     "duration": 0.07672,
     "end_time": "2021-09-08T05:53:27.963989",
     "exception": false,
     "start_time": "2021-09-08T05:53:27.887269",
     "status": "completed"
    },
    "tags": []
   },
   "outputs": [
    {
     "name": "stdout",
     "output_type": "stream",
     "text": [
      "Combined External dataset...\n",
      "(10182, 5)\n"
     ]
    },
    {
     "data": {
      "text/html": [
       "<div>\n",
       "<style scoped>\n",
       "    .dataframe tbody tr th:only-of-type {\n",
       "        vertical-align: middle;\n",
       "    }\n",
       "\n",
       "    .dataframe tbody tr th {\n",
       "        vertical-align: top;\n",
       "    }\n",
       "\n",
       "    .dataframe thead th {\n",
       "        text-align: right;\n",
       "    }\n",
       "</style>\n",
       "<table border=\"1\" class=\"dataframe\">\n",
       "  <thead>\n",
       "    <tr style=\"text-align: right;\">\n",
       "      <th></th>\n",
       "      <th>context</th>\n",
       "      <th>question</th>\n",
       "      <th>answer_text</th>\n",
       "      <th>answer_start</th>\n",
       "      <th>language</th>\n",
       "    </tr>\n",
       "  </thead>\n",
       "  <tbody>\n",
       "    <tr>\n",
       "      <th>0</th>\n",
       "      <td>தற்போதைய ஐஸ் வயது கடைசி பனிக்கட்டி காலம் சுமார...</td>\n",
       "      <td>கடைசியாக பனிக்கட்டி காலத்தின் முடிவில் கடல் மட...</td>\n",
       "      <td>35 மீட்டர் (115 அடி)</td>\n",
       "      <td>142.0</td>\n",
       "      <td>tamil</td>\n",
       "    </tr>\n",
       "    <tr>\n",
       "      <th>1</th>\n",
       "      <td>பிரிட்டிஷ் தொலைக்காட்சியில் முக்கிய சோப் ஓபராக...</td>\n",
       "      <td>சோப் ஓபரா Emmerdale க்கு சேனல் என்ன சேனல்?</td>\n",
       "      <td>ITV</td>\n",
       "      <td>140.0</td>\n",
       "      <td>tamil</td>\n",
       "    </tr>\n",
       "    <tr>\n",
       "      <th>2</th>\n",
       "      <td>भारत गणराज्य में उन्तीस राज्यों और दो केन्द्र-...</td>\n",
       "      <td>कौन सा संविधान?</td>\n",
       "      <td>भारत</td>\n",
       "      <td>135.0</td>\n",
       "      <td>hindi</td>\n",
       "    </tr>\n",
       "    <tr>\n",
       "      <th>3</th>\n",
       "      <td>அவர் 1922 ஆம் ஆண்டு வரை அவர் இருந்தார், அங்கு ...</td>\n",
       "      <td>ஆபத்தான தொட்டி தந்திரோபாயங்களுக்கான அவரது ஆதரவ...</td>\n",
       "      <td>அவர் கருதினார்</td>\n",
       "      <td>714.0</td>\n",
       "      <td>tamil</td>\n",
       "    </tr>\n",
       "    <tr>\n",
       "      <th>4</th>\n",
       "      <td>இறுதியாக 17 பிப்ரவரி 1987 பிப்ரவரி முதல் பாப் ...</td>\n",
       "      <td>எல்டன் ஜான் அவர்களின் கவரேஜ் எத்தனை லிபிட் எழு...</td>\n",
       "      <td>17</td>\n",
       "      <td>9.0</td>\n",
       "      <td>tamil</td>\n",
       "    </tr>\n",
       "  </tbody>\n",
       "</table>\n",
       "</div>"
      ],
      "text/plain": [
       "                                             context  \\\n",
       "0  தற்போதைய ஐஸ் வயது கடைசி பனிக்கட்டி காலம் சுமார...   \n",
       "1  பிரிட்டிஷ் தொலைக்காட்சியில் முக்கிய சோப் ஓபராக...   \n",
       "2  भारत गणराज्य में उन्तीस राज्यों और दो केन्द्र-...   \n",
       "3  அவர் 1922 ஆம் ஆண்டு வரை அவர் இருந்தார், அங்கு ...   \n",
       "4  இறுதியாக 17 பிப்ரவரி 1987 பிப்ரவரி முதல் பாப் ...   \n",
       "\n",
       "                                            question           answer_text  \\\n",
       "0  கடைசியாக பனிக்கட்டி காலத்தின் முடிவில் கடல் மட...  35 மீட்டர் (115 அடி)   \n",
       "1         சோப் ஓபரா Emmerdale க்கு சேனல் என்ன சேனல்?                   ITV   \n",
       "2                                    कौन सा संविधान?                  भारत   \n",
       "3  ஆபத்தான தொட்டி தந்திரோபாயங்களுக்கான அவரது ஆதரவ...        அவர் கருதினார்   \n",
       "4  எல்டன் ஜான் அவர்களின் கவரேஜ் எத்தனை லிபிட் எழு...                    17   \n",
       "\n",
       "   answer_start language  \n",
       "0         142.0    tamil  \n",
       "1         140.0    tamil  \n",
       "2         135.0    hindi  \n",
       "3         714.0    tamil  \n",
       "4           9.0    tamil  "
      ]
     },
     "execution_count": 9,
     "metadata": {},
     "output_type": "execute_result"
    }
   ],
   "source": [
    "print('Combined External dataset...')\n",
    "external_df = pd.concat([external_hindi, external_tamil])\n",
    "external_df = external_df.sample(frac = 1).reset_index(drop = True)\n",
    "print(external_df.shape)\n",
    "external_df.head()"
   ]
  },
  {
   "cell_type": "code",
   "execution_count": 10,
   "id": "aaff4d44",
   "metadata": {
    "_kg_hide-input": true,
    "execution": {
     "iopub.execute_input": "2021-09-08T05:53:28.168482Z",
     "iopub.status.busy": "2021-09-08T05:53:28.167452Z",
     "iopub.status.idle": "2021-09-08T05:53:28.171347Z",
     "shell.execute_reply": "2021-09-08T05:53:28.172137Z",
     "shell.execute_reply.started": "2021-09-08T05:17:53.011861Z"
    },
    "papermill": {
     "duration": 0.161849,
     "end_time": "2021-09-08T05:53:28.172346",
     "exception": false,
     "start_time": "2021-09-08T05:53:28.010497",
     "status": "completed"
    },
    "tags": []
   },
   "outputs": [
    {
     "data": {
      "text/plain": [
       "20"
      ]
     },
     "execution_count": 10,
     "metadata": {},
     "output_type": "execute_result"
    }
   ],
   "source": [
    "del external_hindi1, external_hindi2, external_hindi, external_tamil\n",
    "gc.collect()"
   ]
  },
  {
   "cell_type": "code",
   "execution_count": 11,
   "id": "5aa3656e",
   "metadata": {
    "_kg_hide-input": true,
    "execution": {
     "iopub.execute_input": "2021-09-08T05:53:28.270071Z",
     "iopub.status.busy": "2021-09-08T05:53:28.269109Z",
     "iopub.status.idle": "2021-09-08T05:53:28.605078Z",
     "shell.execute_reply": "2021-09-08T05:53:28.605574Z",
     "shell.execute_reply.started": "2021-09-08T05:17:53.118578Z"
    },
    "papermill": {
     "duration": 0.38594,
     "end_time": "2021-09-08T05:53:28.605760",
     "exception": false,
     "start_time": "2021-09-08T05:53:28.219820",
     "status": "completed"
    },
    "tags": []
   },
   "outputs": [
    {
     "data": {
      "image/png": "[encoded data removed]",
      "text/plain": [
       "<Figure size 864x576 with 2 Axes>"
      ]
     },
     "metadata": {
      "needs_background": "light"
     },
     "output_type": "display_data"
    }
   ],
   "source": [
    "fig, (ax1, ax2) = plt.subplots(1, 2)\n",
    "sns.countplot(x = 'language', data = external_df, ax = ax1).set_title('External Dataset Language Counts')\n",
    "for p in ax1.patches:\n",
    "    ax1.annotate(str(p.get_height()), (p.get_x() * 1.005, p.get_height() * 1.005))\n",
    "sns.countplot(x = 'language', data = test, ax = ax2).set_title('Test Language Counts')\n",
    "for p in ax2.patches:\n",
    "    ax2.annotate(str(p.get_height()), (p.get_x() * 1.005, p.get_height() * 1.005))"
   ]
  },
  {
   "cell_type": "markdown",
   "id": "0a36e202",
   "metadata": {
    "papermill": {
     "duration": 0.047593,
     "end_time": "2021-09-08T05:53:28.701153",
     "exception": false,
     "start_time": "2021-09-08T05:53:28.653560",
     "status": "completed"
    },
    "tags": []
   },
   "source": [
    "# Huggingface TF XLM RoBerta\n",
    "XLM-RoBERTa is a scaled cross lingual sentence encoder. It is trained on 2.5T of data across 100 languages data filtered from Common Crawl. XLM-R achieves state-of-the-arts results on multiple cross lingual benchmarks."
   ]
  },
  {
   "cell_type": "code",
   "execution_count": 12,
   "id": "cc129f6c",
   "metadata": {
    "execution": {
     "iopub.execute_input": "2021-09-08T05:53:28.800259Z",
     "iopub.status.busy": "2021-09-08T05:53:28.799201Z",
     "iopub.status.idle": "2021-09-08T05:53:28.825650Z",
     "shell.execute_reply": "2021-09-08T05:53:28.824899Z",
     "shell.execute_reply.started": "2021-09-08T05:17:53.455341Z"
    },
    "papermill": {
     "duration": 0.07695,
     "end_time": "2021-09-08T05:53:28.825799",
     "exception": false,
     "start_time": "2021-09-08T05:53:28.748849",
     "status": "completed"
    },
    "tags": []
   },
   "outputs": [],
   "source": [
    "import yaml\n",
    "\n",
    "hparams = {\n",
    "    'DEVICE': 'TPU',\n",
    "    'EPOCHS': 2,\n",
    "    'MODEL_2': '../input/jplu-tf-xlm-roberta-large',\n",
    "    'N_FOLDS': 2,\n",
    "    'SEED': 777,\n",
    "    'VERBOSE': 1,\n",
    "    'BATCH_SIZE': 32,\n",
    "    'MAX_LENGTH': 512,\n",
    "    'DOC_STRIDE': 128\n",
    "    \n",
    "}"
   ]
  },
  {
   "cell_type": "code",
   "execution_count": 13,
   "id": "76353e18",
   "metadata": {
    "execution": {
     "iopub.execute_input": "2021-09-08T05:53:28.926893Z",
     "iopub.status.busy": "2021-09-08T05:53:28.926068Z",
     "iopub.status.idle": "2021-09-08T05:53:36.724878Z",
     "shell.execute_reply": "2021-09-08T05:53:36.725384Z",
     "shell.execute_reply.started": "2021-09-08T05:17:53.487067Z"
    },
    "papermill": {
     "duration": 7.852271,
     "end_time": "2021-09-08T05:53:36.725632",
     "exception": false,
     "start_time": "2021-09-08T05:53:28.873361",
     "status": "completed"
    },
    "tags": []
   },
   "outputs": [
    {
     "name": "stdout",
     "output_type": "stream",
     "text": [
      "2.4.1\n",
      "4.6.1\n"
     ]
    }
   ],
   "source": [
    "import tensorflow as tf\n",
    "import tensorflow.keras.backend as K\n",
    "\n",
    "import transformers\n",
    "from transformers import AutoTokenizer, TFXLMRobertaForQuestionAnswering, TFXLMRobertaModel\n",
    "\n",
    "print(tf.__version__)\n",
    "print(transformers.__version__)"
   ]
  },
  {
   "cell_type": "code",
   "execution_count": 14,
   "id": "e3769a65",
   "metadata": {
    "execution": {
     "iopub.execute_input": "2021-09-08T05:53:36.827781Z",
     "iopub.status.busy": "2021-09-08T05:53:36.827110Z",
     "iopub.status.idle": "2021-09-08T05:53:36.830407Z",
     "shell.execute_reply": "2021-09-08T05:53:36.829875Z",
     "shell.execute_reply.started": "2021-09-08T05:18:00.762233Z"
    },
    "papermill": {
     "duration": 0.055707,
     "end_time": "2021-09-08T05:53:36.830547",
     "exception": false,
     "start_time": "2021-09-08T05:53:36.774840",
     "status": "completed"
    },
    "tags": []
   },
   "outputs": [],
   "source": [
    "SEED = hparams['SEED']\n",
    "tf.random.set_seed(SEED)\n",
    "np.random.seed(SEED)"
   ]
  },
  {
   "cell_type": "code",
   "execution_count": 15,
   "id": "79a18dfd",
   "metadata": {
    "execution": {
     "iopub.execute_input": "2021-09-08T05:53:36.931874Z",
     "iopub.status.busy": "2021-09-08T05:53:36.931238Z",
     "iopub.status.idle": "2021-09-08T05:53:36.933975Z",
     "shell.execute_reply": "2021-09-08T05:53:36.934426Z",
     "shell.execute_reply.started": "2021-09-08T05:18:00.768107Z"
    },
    "papermill": {
     "duration": 0.055614,
     "end_time": "2021-09-08T05:53:36.934665",
     "exception": false,
     "start_time": "2021-09-08T05:53:36.879051",
     "status": "completed"
    },
    "tags": []
   },
   "outputs": [],
   "source": [
    "model_checkpoint = hparams['MODEL_2']\n",
    "batch_size = hparams['BATCH_SIZE']"
   ]
  },
  {
   "cell_type": "code",
   "execution_count": 16,
   "id": "791eccd7",
   "metadata": {
    "execution": {
     "iopub.execute_input": "2021-09-08T05:53:37.037077Z",
     "iopub.status.busy": "2021-09-08T05:53:37.036375Z",
     "iopub.status.idle": "2021-09-08T05:53:39.201850Z",
     "shell.execute_reply": "2021-09-08T05:53:39.201108Z",
     "shell.execute_reply.started": "2021-09-08T05:18:00.781075Z"
    },
    "papermill": {
     "duration": 2.219203,
     "end_time": "2021-09-08T05:53:39.202063",
     "exception": false,
     "start_time": "2021-09-08T05:53:36.982860",
     "status": "completed"
    },
    "tags": []
   },
   "outputs": [
    {
     "name": "stdout",
     "output_type": "stream",
     "text": [
      "PreTrainedTokenizerFast(name_or_path='../input/jplu-tf-xlm-roberta-large', vocab_size=250002, model_max_len=1000000000000000019884624838656, is_fast=True, padding_side='right', special_tokens={'bos_token': '<s>', 'eos_token': '</s>', 'unk_token': '<unk>', 'sep_token': '</s>', 'pad_token': '<pad>', 'cls_token': '<s>', 'mask_token': AddedToken(\"<mask>\", rstrip=False, lstrip=True, single_word=False, normalized=True)})\n"
     ]
    }
   ],
   "source": [
    "tokenizer = AutoTokenizer.from_pretrained(model_checkpoint, add_special_tokens = True)\n",
    "print(tokenizer)"
   ]
  },
  {
   "cell_type": "code",
   "execution_count": 17,
   "id": "b20ff9bd",
   "metadata": {
    "execution": {
     "iopub.execute_input": "2021-09-08T05:53:39.305286Z",
     "iopub.status.busy": "2021-09-08T05:53:39.304256Z",
     "iopub.status.idle": "2021-09-08T05:54:20.518558Z",
     "shell.execute_reply": "2021-09-08T05:54:20.519087Z",
     "shell.execute_reply.started": "2021-09-08T05:18:02.918259Z"
    },
    "papermill": {
     "duration": 41.268542,
     "end_time": "2021-09-08T05:54:20.519276",
     "exception": false,
     "start_time": "2021-09-08T05:53:39.250734",
     "status": "completed"
    },
    "tags": []
   },
   "outputs": [
    {
     "data": {
      "text/plain": [
       "14973"
      ]
     },
     "execution_count": 17,
     "metadata": {},
     "output_type": "execute_result"
    }
   ],
   "source": [
    "train['context_num_tokens'] = train['context'].apply(lambda x: len(tokenizer(x)['input_ids']))\n",
    "train['context_num_tokens'].max()"
   ]
  },
  {
   "cell_type": "code",
   "execution_count": 18,
   "id": "8774c9ba",
   "metadata": {
    "execution": {
     "iopub.execute_input": "2021-09-08T05:54:20.621133Z",
     "iopub.status.busy": "2021-09-08T05:54:20.620488Z",
     "iopub.status.idle": "2021-09-08T05:54:20.851444Z",
     "shell.execute_reply": "2021-09-08T05:54:20.850750Z",
     "shell.execute_reply.started": "2021-09-08T05:18:43.306721Z"
    },
    "papermill": {
     "duration": 0.281963,
     "end_time": "2021-09-08T05:54:20.851595",
     "exception": false,
     "start_time": "2021-09-08T05:54:20.569632",
     "status": "completed"
    },
    "tags": []
   },
   "outputs": [
    {
     "data": {
      "text/plain": [
       "<AxesSubplot:>"
      ]
     },
     "execution_count": 18,
     "metadata": {},
     "output_type": "execute_result"
    },
    {
     "data": {
      "image/png": "[encoded data removed]",
      "text/plain": [
       "<Figure size 864x576 with 1 Axes>"
      ]
     },
     "metadata": {
      "needs_background": "light"
     },
     "output_type": "display_data"
    }
   ],
   "source": [
    "train['context_num_tokens'].hist()"
   ]
  },
  {
   "cell_type": "markdown",
   "id": "9f1c2881",
   "metadata": {
    "papermill": {
     "duration": 0.049519,
     "end_time": "2021-09-08T05:54:20.951256",
     "exception": false,
     "start_time": "2021-09-08T05:54:20.901737",
     "status": "completed"
    },
    "tags": []
   },
   "source": [
    "- The context length is too long, it has to be split into pieces before processing\n",
    "- Usually in NLP tasks long documents are truncated but in QA tasks truncating 'context' would lead to loss of answer\n",
    "- To avoid this, the long context is split into many input features each of length less than the max_length parameter\n",
    "- And if answer is at the split, we use overlapping of split features which is controlled by the parameter doc_stride"
   ]
  },
  {
   "cell_type": "code",
   "execution_count": 19,
   "id": "a7ba82fb",
   "metadata": {
    "execution": {
     "iopub.execute_input": "2021-09-08T05:54:21.059169Z",
     "iopub.status.busy": "2021-09-08T05:54:21.058489Z",
     "iopub.status.idle": "2021-09-08T05:54:21.076639Z",
     "shell.execute_reply": "2021-09-08T05:54:21.077170Z",
     "shell.execute_reply.started": "2021-09-08T05:18:43.532679Z"
    },
    "papermill": {
     "duration": 0.07588,
     "end_time": "2021-09-08T05:54:21.077350",
     "exception": false,
     "start_time": "2021-09-08T05:54:21.001470",
     "status": "completed"
    },
    "tags": []
   },
   "outputs": [
    {
     "name": "stdout",
     "output_type": "stream",
     "text": [
      "(1114, 7)\n"
     ]
    },
    {
     "data": {
      "text/html": [
       "<div>\n",
       "<style scoped>\n",
       "    .dataframe tbody tr th:only-of-type {\n",
       "        vertical-align: middle;\n",
       "    }\n",
       "\n",
       "    .dataframe tbody tr th {\n",
       "        vertical-align: top;\n",
       "    }\n",
       "\n",
       "    .dataframe thead th {\n",
       "        text-align: right;\n",
       "    }\n",
       "</style>\n",
       "<table border=\"1\" class=\"dataframe\">\n",
       "  <thead>\n",
       "    <tr style=\"text-align: right;\">\n",
       "      <th></th>\n",
       "      <th>id</th>\n",
       "      <th>context</th>\n",
       "      <th>question</th>\n",
       "      <th>answer_text</th>\n",
       "      <th>answer_start</th>\n",
       "      <th>language</th>\n",
       "      <th>context_num_tokens</th>\n",
       "    </tr>\n",
       "  </thead>\n",
       "  <tbody>\n",
       "    <tr>\n",
       "      <th>0</th>\n",
       "      <td>0231ad0ec</td>\n",
       "      <td>தமிழ்நாட்டில் மேற்கொள்ளப்படும் வேளாண்மையும் அத...</td>\n",
       "      <td>தமிழ்நாட்டில் அதிகமான ரோஜா பூ எங்கு சாகுபடி செ...</td>\n",
       "      <td>ஓசூர்</td>\n",
       "      <td>1731</td>\n",
       "      <td>tamil</td>\n",
       "      <td>1289</td>\n",
       "    </tr>\n",
       "    <tr>\n",
       "      <th>1</th>\n",
       "      <td>80452bc4d</td>\n",
       "      <td>கால்வாய் எனப்படுவது நீர்ப்பாசனத்துக்காக கால்வா...</td>\n",
       "      <td>உலகின் மிகப்பெரிய மனிதனால் உருவாக்கப்பட்ட கால்...</td>\n",
       "      <td>பெரும்</td>\n",
       "      <td>1928</td>\n",
       "      <td>tamil</td>\n",
       "      <td>2778</td>\n",
       "    </tr>\n",
       "    <tr>\n",
       "      <th>2</th>\n",
       "      <td>a48ae7027</td>\n",
       "      <td>रजनीकान्त ();(मराठी:शिवाजीराव गायकवाड) एक भारत...</td>\n",
       "      <td>तमिल सिनेमा के अभिनेता रजनीकांत का पूरा नाम क्...</td>\n",
       "      <td>शिवाजीराव गायकवाड</td>\n",
       "      <td>20</td>\n",
       "      <td>hindi</td>\n",
       "      <td>1521</td>\n",
       "    </tr>\n",
       "    <tr>\n",
       "      <th>3</th>\n",
       "      <td>6fc07dbd9</td>\n",
       "      <td>ஜெயமோகன் (Jeyamohan), பிறப்பு: 22 ஏப்ரல் 1962)...</td>\n",
       "      <td>எழுத்தாளர் ஜெயமோகனின் சொந்த ஊர் எது?</td>\n",
       "      <td>குமரி மாவட்டம் விளவங்கோடு வட்டம், திருவரம்பு</td>\n",
       "      <td>359</td>\n",
       "      <td>tamil</td>\n",
       "      <td>3201</td>\n",
       "    </tr>\n",
       "    <tr>\n",
       "      <th>4</th>\n",
       "      <td>33f5a537d</td>\n",
       "      <td>लीबिया (Arabic: ليبيا‎), आधिकारिक तौर पर 'महान...</td>\n",
       "      <td>लीबिया की राजधानी क्या है?</td>\n",
       "      <td>त्रिपोली</td>\n",
       "      <td>615</td>\n",
       "      <td>hindi</td>\n",
       "      <td>1922</td>\n",
       "    </tr>\n",
       "  </tbody>\n",
       "</table>\n",
       "</div>"
      ],
      "text/plain": [
       "          id                                            context  \\\n",
       "0  0231ad0ec  தமிழ்நாட்டில் மேற்கொள்ளப்படும் வேளாண்மையும் அத...   \n",
       "1  80452bc4d  கால்வாய் எனப்படுவது நீர்ப்பாசனத்துக்காக கால்வா...   \n",
       "2  a48ae7027  रजनीकान्त ();(मराठी:शिवाजीराव गायकवाड) एक भारत...   \n",
       "3  6fc07dbd9  ஜெயமோகன் (Jeyamohan), பிறப்பு: 22 ஏப்ரல் 1962)...   \n",
       "4  33f5a537d  लीबिया (Arabic: ليبيا‎), आधिकारिक तौर पर 'महान...   \n",
       "\n",
       "                                            question  \\\n",
       "0  தமிழ்நாட்டில் அதிகமான ரோஜா பூ எங்கு சாகுபடி செ...   \n",
       "1  உலகின் மிகப்பெரிய மனிதனால் உருவாக்கப்பட்ட கால்...   \n",
       "2  तमिल सिनेमा के अभिनेता रजनीकांत का पूरा नाम क्...   \n",
       "3               எழுத்தாளர் ஜெயமோகனின் சொந்த ஊர் எது?   \n",
       "4                         लीबिया की राजधानी क्या है?   \n",
       "\n",
       "                                    answer_text  answer_start language  \\\n",
       "0                                         ஓசூர்          1731    tamil   \n",
       "1                                        பெரும்          1928    tamil   \n",
       "2                             शिवाजीराव गायकवाड            20    hindi   \n",
       "3  குமரி மாவட்டம் விளவங்கோடு வட்டம், திருவரம்பு           359    tamil   \n",
       "4                                      त्रिपोली           615    hindi   \n",
       "\n",
       "   context_num_tokens  \n",
       "0                1289  \n",
       "1                2778  \n",
       "2                1521  \n",
       "3                3201  \n",
       "4                1922  "
      ]
     },
     "execution_count": 19,
     "metadata": {},
     "output_type": "execute_result"
    }
   ],
   "source": [
    "train = train.sample(frac = 1, random_state = 2021).reset_index(drop = True)\n",
    "print(train.shape)\n",
    "train.head()"
   ]
  },
  {
   "cell_type": "code",
   "execution_count": 20,
   "id": "765b3e52",
   "metadata": {
    "execution": {
     "iopub.execute_input": "2021-09-08T05:54:21.183733Z",
     "iopub.status.busy": "2021-09-08T05:54:21.183080Z",
     "iopub.status.idle": "2021-09-08T05:54:21.203900Z",
     "shell.execute_reply": "2021-09-08T05:54:21.204415Z",
     "shell.execute_reply.started": "2021-09-08T05:18:43.557093Z"
    },
    "papermill": {
     "duration": 0.07566,
     "end_time": "2021-09-08T05:54:21.204617",
     "exception": false,
     "start_time": "2021-09-08T05:54:21.128957",
     "status": "completed"
    },
    "tags": []
   },
   "outputs": [
    {
     "data": {
      "text/html": [
       "<div>\n",
       "<style scoped>\n",
       "    .dataframe tbody tr th:only-of-type {\n",
       "        vertical-align: middle;\n",
       "    }\n",
       "\n",
       "    .dataframe tbody tr th {\n",
       "        vertical-align: top;\n",
       "    }\n",
       "\n",
       "    .dataframe thead th {\n",
       "        text-align: right;\n",
       "    }\n",
       "</style>\n",
       "<table border=\"1\" class=\"dataframe\">\n",
       "  <thead>\n",
       "    <tr style=\"text-align: right;\">\n",
       "      <th></th>\n",
       "      <th>id</th>\n",
       "      <th>context</th>\n",
       "      <th>question</th>\n",
       "      <th>answer_text</th>\n",
       "      <th>answer_start</th>\n",
       "      <th>language</th>\n",
       "      <th>context_num_tokens</th>\n",
       "      <th>kfold</th>\n",
       "    </tr>\n",
       "  </thead>\n",
       "  <tbody>\n",
       "    <tr>\n",
       "      <th>0</th>\n",
       "      <td>0231ad0ec</td>\n",
       "      <td>தமிழ்நாட்டில் மேற்கொள்ளப்படும் வேளாண்மையும் அத...</td>\n",
       "      <td>தமிழ்நாட்டில் அதிகமான ரோஜா பூ எங்கு சாகுபடி செ...</td>\n",
       "      <td>ஓசூர்</td>\n",
       "      <td>1731</td>\n",
       "      <td>tamil</td>\n",
       "      <td>1289</td>\n",
       "      <td>1</td>\n",
       "    </tr>\n",
       "    <tr>\n",
       "      <th>1</th>\n",
       "      <td>80452bc4d</td>\n",
       "      <td>கால்வாய் எனப்படுவது நீர்ப்பாசனத்துக்காக கால்வா...</td>\n",
       "      <td>உலகின் மிகப்பெரிய மனிதனால் உருவாக்கப்பட்ட கால்...</td>\n",
       "      <td>பெரும்</td>\n",
       "      <td>1928</td>\n",
       "      <td>tamil</td>\n",
       "      <td>2778</td>\n",
       "      <td>1</td>\n",
       "    </tr>\n",
       "  </tbody>\n",
       "</table>\n",
       "</div>"
      ],
      "text/plain": [
       "          id                                            context  \\\n",
       "0  0231ad0ec  தமிழ்நாட்டில் மேற்கொள்ளப்படும் வேளாண்மையும் அத...   \n",
       "1  80452bc4d  கால்வாய் எனப்படுவது நீர்ப்பாசனத்துக்காக கால்வா...   \n",
       "\n",
       "                                            question answer_text  \\\n",
       "0  தமிழ்நாட்டில் அதிகமான ரோஜா பூ எங்கு சாகுபடி செ...       ஓசூர்   \n",
       "1  உலகின் மிகப்பெரிய மனிதனால் உருவாக்கப்பட்ட கால்...      பெரும்   \n",
       "\n",
       "   answer_start language  context_num_tokens  kfold  \n",
       "0          1731    tamil                1289      1  \n",
       "1          1928    tamil                2778      1  "
      ]
     },
     "execution_count": 20,
     "metadata": {},
     "output_type": "execute_result"
    }
   ],
   "source": [
    "#Split data to folds\n",
    "n_folds = hparams['N_FOLDS']\n",
    "train['kfold'] = -1\n",
    "\n",
    "skf = StratifiedKFold(n_splits = n_folds, shuffle = True, random_state = SEED)\n",
    "for fold, (trn_idx, val_idx) in enumerate(skf.split(X = train, y = train['language'].values)):\n",
    "    train.loc[val_idx, 'kfold'] = fold\n",
    "train.head(2)"
   ]
  },
  {
   "cell_type": "markdown",
   "id": "b8d033fb",
   "metadata": {
    "papermill": {
     "duration": 0.050951,
     "end_time": "2021-09-08T05:54:21.307366",
     "exception": false,
     "start_time": "2021-09-08T05:54:21.256415",
     "status": "completed"
    },
    "tags": []
   },
   "source": [
    "# Set TPU"
   ]
  },
  {
   "cell_type": "code",
   "execution_count": 21,
   "id": "caa9cddb",
   "metadata": {
    "_kg_hide-input": true,
    "execution": {
     "iopub.execute_input": "2021-09-08T05:54:21.413595Z",
     "iopub.status.busy": "2021-09-08T05:54:21.412956Z",
     "iopub.status.idle": "2021-09-08T05:54:27.147069Z",
     "shell.execute_reply": "2021-09-08T05:54:27.147566Z",
     "shell.execute_reply.started": "2021-09-08T05:18:43.583380Z"
    },
    "papermill": {
     "duration": 5.789606,
     "end_time": "2021-09-08T05:54:27.147772",
     "exception": false,
     "start_time": "2021-09-08T05:54:21.358166",
     "status": "completed"
    },
    "tags": []
   },
   "outputs": [
    {
     "name": "stdout",
     "output_type": "stream",
     "text": [
      "connecting to TPU...\n",
      "Running on TPU  grpc://10.0.0.2:8470\n",
      "initializing  TPU ...\n",
      "TPU initialized\n",
      "REPLICAS: 8\n"
     ]
    }
   ],
   "source": [
    "DEVICE = 'TPU'\n",
    "\n",
    "if DEVICE == \"TPU\":\n",
    "    print(\"connecting to TPU...\")\n",
    "    try:\n",
    "        tpu = tf.distribute.cluster_resolver.TPUClusterResolver()\n",
    "        print('Running on TPU ', tpu.master())\n",
    "    except ValueError:\n",
    "        print(\"Could not connect to TPU\")\n",
    "        tpu = None\n",
    "\n",
    "    if tpu:\n",
    "        try:\n",
    "            print(\"initializing  TPU ...\")\n",
    "            tf.config.experimental_connect_to_cluster(tpu)\n",
    "            tf.tpu.experimental.initialize_tpu_system(tpu)\n",
    "            strategy = tf.distribute.experimental.TPUStrategy(tpu)\n",
    "            print(\"TPU initialized\")\n",
    "        except _:\n",
    "            print(\"failed to initialize TPU\")\n",
    "    else:\n",
    "        DEVICE = \"GPU\"\n",
    "\n",
    "if DEVICE != \"TPU\":\n",
    "    print(\"Using default strategy for CPU and single GPU\")\n",
    "    strategy = tf.distribute.get_strategy()\n",
    "\n",
    "if DEVICE == \"GPU\":\n",
    "    print(\"Num GPUs Available: \", len(tf.config.experimental.list_physical_devices('GPU')))\n",
    "    \n",
    "\n",
    "AUTO     = tf.data.experimental.AUTOTUNE\n",
    "REPLICAS = strategy.num_replicas_in_sync\n",
    "\n",
    "print(f'REPLICAS: {REPLICAS}')"
   ]
  },
  {
   "cell_type": "code",
   "execution_count": 22,
   "id": "8b30674b",
   "metadata": {
    "execution": {
     "iopub.execute_input": "2021-09-08T05:54:27.257168Z",
     "iopub.status.busy": "2021-09-08T05:54:27.256451Z",
     "iopub.status.idle": "2021-09-08T05:54:27.260716Z",
     "shell.execute_reply": "2021-09-08T05:54:27.261215Z",
     "shell.execute_reply.started": "2021-09-08T05:18:48.712543Z"
    },
    "papermill": {
     "duration": 0.061069,
     "end_time": "2021-09-08T05:54:27.261434",
     "exception": false,
     "start_time": "2021-09-08T05:54:27.200365",
     "status": "completed"
    },
    "tags": []
   },
   "outputs": [],
   "source": [
    "max_length = hparams['MAX_LENGTH'] #The maximum length of a feature (question and context)\n",
    "doc_stride = hparams['DOC_STRIDE'] #The authorized overlap between two part of the context when splitting it if needed.\n",
    "\n",
    "pad_on_right = tokenizer.padding_side == \"right\""
   ]
  },
  {
   "cell_type": "code",
   "execution_count": 23,
   "id": "da19c8a1",
   "metadata": {
    "execution": {
     "iopub.execute_input": "2021-09-08T05:54:27.372701Z",
     "iopub.status.busy": "2021-09-08T05:54:27.371964Z",
     "iopub.status.idle": "2021-09-08T05:54:27.385647Z",
     "shell.execute_reply": "2021-09-08T05:54:27.386147Z",
     "shell.execute_reply.started": "2021-09-08T05:18:48.719201Z"
    },
    "papermill": {
     "duration": 0.071392,
     "end_time": "2021-09-08T05:54:27.386355",
     "exception": false,
     "start_time": "2021-09-08T05:54:27.314963",
     "status": "completed"
    },
    "tags": []
   },
   "outputs": [],
   "source": [
    "def prepare_training(examples):\n",
    "    examples['question'] = [q.lstrip().rstrip('?') for q in examples['question']] #remove leading white space\n",
    "    \n",
    "    #Tokenize our examples with truncation and padding, but keep the overflows using a stride. This results\n",
    "    #in one example possible giving several features when a context is long, each of those features having a\n",
    "    #context that overlaps a bit the context of the previous feature.\n",
    "    \n",
    "    tokenized_examples = tokenizer(\n",
    "                list(examples['question' if pad_on_right else 'context'].values),\n",
    "                list(examples['context' if pad_on_right else 'question'].values),\n",
    "                truncation = 'only_second' if pad_on_right else 'only_first',\n",
    "                max_length = max_length,\n",
    "                stride = doc_stride,\n",
    "                return_overflowing_tokens = True,\n",
    "                return_offsets_mapping = True,\n",
    "                padding = 'max_length'\n",
    "            )\n",
    "    #Since one example might give us several features if it has a long context, we need a map from a feature to\n",
    "    #its corresponding example. This key gives us just that.\n",
    "    \n",
    "    sample_mapping = tokenized_examples.pop('overflow_to_sample_mapping')\n",
    "    \n",
    "    #The offset mappings will give us a map from token to character position in the original context. This will\n",
    "    #help us compute the start_positions and end_positions.\n",
    "    \n",
    "    offset_mapping = tokenized_examples.pop('offset_mapping')\n",
    "    \n",
    "    tokenized_examples['start_positions'] = []\n",
    "    tokenized_examples['end_positions'] = []\n",
    "\n",
    "    for i, offsets in enumerate(offset_mapping):\n",
    "        # We will label impossible answers with the index of the CLS token.\n",
    "        input_ids = tokenized_examples['input_ids'][i]\n",
    "        cls_index = input_ids.index(tokenizer.cls_token_id)\n",
    "        \n",
    "        sequence_ids = tokenized_examples.sequence_ids(i)\n",
    "        \n",
    "        #One example can give several spans, this is the index of the example containing this span of text.\n",
    "        sample_index = sample_mapping[i]\n",
    "        answers = examples.loc[sample_index, 'answer_text']\n",
    "        start_char = examples.loc[sample_index, 'answer_start']\n",
    "        \n",
    "        # If no answers are given, set the cls_index as answer.\n",
    "        if start_char is None:\n",
    "            tokenized_examples['start_positions'].append(cls_index)\n",
    "            tokenized_examples['end_positions'].append(cls_index)\n",
    "        else:\n",
    "            # Start/end character idx of the answer in the text.\n",
    "            end_char = start_char + len(answers)\n",
    "            \n",
    "             #Start token idx of the current span in the text.\n",
    "            token_start_index = 0\n",
    "            while sequence_ids[token_start_index] != (1 if pad_on_right else 0):\n",
    "                token_start_index += 1\n",
    "            # End token index of the current span in the text.\n",
    "            token_end_index = len(input_ids) - 1\n",
    "            while sequence_ids[token_end_index] != (1 if pad_on_right else 0):\n",
    "                token_end_index -= 1\n",
    "            #Detect if the answer is out of the span (in which case this feature is labeled with the CLS index).\n",
    "            if not (offsets[token_start_index][0] <= start_char and offsets[token_end_index][1] >= end_char):\n",
    "                tokenized_examples['start_positions'].append(cls_index)\n",
    "                tokenized_examples['end_positions'].append(cls_index)\n",
    "            else:\n",
    "                #Otherwise move the token_start_index and token_end_index to the two ends of the answer.\n",
    "                #Note: we could go after the last offset if the answer is the last word (edge case).\n",
    "                \n",
    "                while token_start_index < len(offsets) and offsets[token_start_index][0] <= start_char:\n",
    "                    token_start_index += 1\n",
    "                tokenized_examples['start_positions'].append(token_start_index - 1)\n",
    "                \n",
    "                while offsets[token_end_index][1] >= end_char:\n",
    "                    token_end_index -= 1\n",
    "                tokenized_examples['end_positions'].append(token_end_index + 1)\n",
    "\n",
    "    return tokenized_examples"
   ]
  },
  {
   "cell_type": "code",
   "execution_count": 24,
   "id": "bd289bdd",
   "metadata": {
    "execution": {
     "iopub.execute_input": "2021-09-08T05:54:27.495167Z",
     "iopub.status.busy": "2021-09-08T05:54:27.494427Z",
     "iopub.status.idle": "2021-09-08T05:54:27.503707Z",
     "shell.execute_reply": "2021-09-08T05:54:27.504288Z",
     "shell.execute_reply.started": "2021-09-08T05:18:48.736618Z"
    },
    "papermill": {
     "duration": 0.064577,
     "end_time": "2021-09-08T05:54:27.504492",
     "exception": false,
     "start_time": "2021-09-08T05:54:27.439915",
     "status": "completed"
    },
    "tags": []
   },
   "outputs": [],
   "source": [
    "def prepare_validation(examples):\n",
    "    examples['question'] = [q.lstrip() for q in examples['question']]\n",
    "    examples['question'] = [q.rstrip('?') for q in examples['question']]\n",
    "    \n",
    "    tokenized_examples = tokenizer(\n",
    "                list(examples['question' if pad_on_right else 'context'].values),\n",
    "                list(examples['context' if pad_on_right else 'question'].values),\n",
    "                truncation = 'only_second' if pad_on_right else 'only_first',\n",
    "                max_length = max_length,\n",
    "                stride = doc_stride,\n",
    "                return_overflowing_tokens = True,\n",
    "                return_offsets_mapping = True,\n",
    "                padding = 'max_length'\n",
    "            )\n",
    "    \n",
    "    sample_mapping = tokenized_examples.pop('overflow_to_sample_mapping')\n",
    "    \n",
    "    #id column from the dataset\n",
    "    tokenized_examples['example_id'] = []\n",
    "\n",
    "    for i in range(len(tokenized_examples['input_ids'])):\n",
    "        sequence_ids = tokenized_examples.sequence_ids(i)\n",
    "        context_index = 1 if pad_on_right else 0\n",
    "        sample_index = sample_mapping[i]\n",
    "        tokenized_examples['example_id'].append(examples.loc[sample_index, 'id'])\n",
    "        tokenized_examples['offset_mapping'][i] = [\n",
    "            (o if sequence_ids[k] == context_index else None)\n",
    "            for k, o in enumerate(tokenized_examples['offset_mapping'][i])\n",
    "        ]\n",
    "\n",
    "    return tokenized_examples"
   ]
  },
  {
   "cell_type": "code",
   "execution_count": 25,
   "id": "6fa14717",
   "metadata": {
    "execution": {
     "iopub.execute_input": "2021-09-08T05:54:27.613276Z",
     "iopub.status.busy": "2021-09-08T05:54:27.612550Z",
     "iopub.status.idle": "2021-09-08T05:54:27.621684Z",
     "shell.execute_reply": "2021-09-08T05:54:27.622199Z",
     "shell.execute_reply.started": "2021-09-08T05:18:48.750716Z"
    },
    "papermill": {
     "duration": 0.065606,
     "end_time": "2021-09-08T05:54:27.622391",
     "exception": false,
     "start_time": "2021-09-08T05:54:27.556785",
     "status": "completed"
    },
    "tags": []
   },
   "outputs": [],
   "source": [
    "def build_tf_dataset(df, batch_size = 4, flag = 'train'):\n",
    "    \n",
    "    if flag == 'train':\n",
    "        features = prepare_training(df)\n",
    "    else:\n",
    "        features = prepare_validation(df)\n",
    "    \n",
    "    input_ids = features['input_ids']\n",
    "    attn_masks = features['attention_mask']\n",
    "    \n",
    "    if flag == 'train':\n",
    "        start_positions = features['start_positions']\n",
    "        end_positions = features['end_positions']\n",
    "        train_dataset = tf.data.Dataset.from_tensor_slices((input_ids, attn_masks, start_positions, end_positions))\n",
    "        train_dataset = train_dataset.map(lambda x1, x2, y1, y2: ({'input_ids': x1, 'attention_mask': x2}, {'start_positions': y1, 'end_positions': y2}))\n",
    "        train_dataset = train_dataset.batch(batch_size)\n",
    "        train_dataset = train_dataset.shuffle(1000)\n",
    "        train_dataset = train_dataset.prefetch(AUTO)\n",
    "        \n",
    "        return train_dataset, features\n",
    "    \n",
    "    elif flag == 'valid':\n",
    "        dataset = tf.data.Dataset.from_tensor_slices((input_ids, attn_masks))\n",
    "        dataset = dataset.map(lambda x1, x2: ({'input_ids': x1, 'attention_mask': x2}))\n",
    "        dataset = dataset.batch(batch_size)\n",
    "        dataset = dataset.prefetch(buffer_size = AUTO)\n",
    "        \n",
    "        return dataset, features"
   ]
  },
  {
   "cell_type": "markdown",
   "id": "67164060",
   "metadata": {
    "papermill": {
     "duration": 0.052478,
     "end_time": "2021-09-08T05:54:27.728596",
     "exception": false,
     "start_time": "2021-09-08T05:54:27.676118",
     "status": "completed"
    },
    "tags": []
   },
   "source": [
    "# TF XLM RoBerta Model"
   ]
  },
  {
   "cell_type": "code",
   "execution_count": 26,
   "id": "c855ad07",
   "metadata": {
    "execution": {
     "iopub.execute_input": "2021-09-08T05:54:27.838288Z",
     "iopub.status.busy": "2021-09-08T05:54:27.837513Z",
     "iopub.status.idle": "2021-09-08T05:54:27.847983Z",
     "shell.execute_reply": "2021-09-08T05:54:27.848467Z",
     "shell.execute_reply.started": "2021-09-08T05:18:48.766457Z"
    },
    "papermill": {
     "duration": 0.06607,
     "end_time": "2021-09-08T05:54:27.848651",
     "exception": false,
     "start_time": "2021-09-08T05:54:27.782581",
     "status": "completed"
    },
    "tags": []
   },
   "outputs": [],
   "source": [
    "def build_model():\n",
    "    roberta = TFXLMRobertaModel.from_pretrained(model_checkpoint)\n",
    "    \n",
    "    input_ids = tf.keras.layers.Input(shape = (max_length, ), name = 'input_ids', dtype = tf.int32)\n",
    "    attention_mask = tf.keras.layers.Input(shape = (max_length, ), name = 'attention_mask', dtype = tf.int32)\n",
    "    \n",
    "    embeddings = roberta(input_ids = input_ids, attention_mask = attention_mask)[0]\n",
    "    \n",
    "    x1 = tf.keras.layers.Dropout(0.1)(embeddings) \n",
    "    x1 = tf.keras.layers.Dense(1, use_bias = False)(x1)\n",
    "    x1 = tf.keras.layers.Flatten()(x1)\n",
    "    x1 = tf.keras.layers.Activation('softmax', name = 'start_positions')(x1)\n",
    "    \n",
    "    x2 = tf.keras.layers.Dropout(0.1)(embeddings) \n",
    "    x2 = tf.keras.layers.Dense(1, use_bias = False)(x2)\n",
    "    x2 = tf.keras.layers.Flatten()(x2)\n",
    "    x2 = tf.keras.layers.Activation('softmax', name = 'end_positions')(x2)\n",
    "\n",
    "    model = tf.keras.models.Model(inputs = [input_ids, attention_mask], outputs = [x1, x2])\n",
    "    \n",
    "    optimizer = tf.keras.optimizers.Adam(learning_rate = 3e-5)\n",
    "    loss = tf.keras.losses.SparseCategoricalCrossentropy(from_logits = False)\n",
    "    \n",
    "    model.compile(loss = [loss, loss], optimizer = optimizer)\n",
    "\n",
    "    return model"
   ]
  },
  {
   "cell_type": "code",
   "execution_count": 27,
   "id": "aaade5ff",
   "metadata": {
    "execution": {
     "iopub.execute_input": "2021-09-08T05:54:27.955811Z",
     "iopub.status.busy": "2021-09-08T05:54:27.955201Z",
     "iopub.status.idle": "2021-09-08T05:54:27.959086Z",
     "shell.execute_reply": "2021-09-08T05:54:27.959585Z",
     "shell.execute_reply.started": "2021-09-08T05:18:48.783686Z"
    },
    "papermill": {
     "duration": 0.059051,
     "end_time": "2021-09-08T05:54:27.959761",
     "exception": false,
     "start_time": "2021-09-08T05:54:27.900710",
     "status": "completed"
    },
    "tags": []
   },
   "outputs": [],
   "source": [
    "from transformers import logging\n",
    "\n",
    "logging.set_verbosity(40)"
   ]
  },
  {
   "cell_type": "code",
   "execution_count": 28,
   "id": "330987ff",
   "metadata": {
    "execution": {
     "iopub.execute_input": "2021-09-08T05:54:28.067629Z",
     "iopub.status.busy": "2021-09-08T05:54:28.066867Z",
     "iopub.status.idle": "2021-09-08T05:54:28.069855Z",
     "shell.execute_reply": "2021-09-08T05:54:28.070396Z",
     "shell.execute_reply.started": "2021-09-08T05:18:48.796876Z"
    },
    "papermill": {
     "duration": 0.059257,
     "end_time": "2021-09-08T05:54:28.070576",
     "exception": false,
     "start_time": "2021-09-08T05:54:28.011319",
     "status": "completed"
    },
    "tags": []
   },
   "outputs": [],
   "source": [
    "# K.clear_session()\n",
    "# with strategy.scope():\n",
    "#     model = build_model()\n",
    "    \n",
    "# print(model.summary())"
   ]
  },
  {
   "cell_type": "markdown",
   "id": "86a51cf8",
   "metadata": {
    "papermill": {
     "duration": 0.05161,
     "end_time": "2021-09-08T05:54:28.175166",
     "exception": false,
     "start_time": "2021-09-08T05:54:28.123556",
     "status": "completed"
    },
    "tags": []
   },
   "source": [
    "# Metrics"
   ]
  },
  {
   "cell_type": "code",
   "execution_count": 29,
   "id": "dc34160c",
   "metadata": {
    "execution": {
     "iopub.execute_input": "2021-09-08T05:54:28.281097Z",
     "iopub.status.busy": "2021-09-08T05:54:28.280378Z",
     "iopub.status.idle": "2021-09-08T05:54:28.285135Z",
     "shell.execute_reply": "2021-09-08T05:54:28.285667Z",
     "shell.execute_reply.started": "2021-09-08T05:18:48.806396Z"
    },
    "papermill": {
     "duration": 0.059324,
     "end_time": "2021-09-08T05:54:28.285846",
     "exception": false,
     "start_time": "2021-09-08T05:54:28.226522",
     "status": "completed"
    },
    "tags": []
   },
   "outputs": [],
   "source": [
    "def jaccard(str1, str2): \n",
    "    a = set(str1.lower().split()) \n",
    "    b = set(str2.lower().split())\n",
    "    c = a.intersection(b)\n",
    "    return float(len(c)) / (len(a) + len(b) - len(c))"
   ]
  },
  {
   "cell_type": "markdown",
   "id": "d5a9877a",
   "metadata": {
    "papermill": {
     "duration": 0.051462,
     "end_time": "2021-09-08T05:54:28.389885",
     "exception": false,
     "start_time": "2021-09-08T05:54:28.338423",
     "status": "completed"
    },
    "tags": []
   },
   "source": [
    "# Post Process Predictions"
   ]
  },
  {
   "cell_type": "code",
   "execution_count": 30,
   "id": "9de5f717",
   "metadata": {
    "execution": {
     "iopub.execute_input": "2021-09-08T05:54:28.497767Z",
     "iopub.status.busy": "2021-09-08T05:54:28.497076Z",
     "iopub.status.idle": "2021-09-08T05:54:28.512536Z",
     "shell.execute_reply": "2021-09-08T05:54:28.513032Z",
     "shell.execute_reply.started": "2021-09-08T05:18:48.817339Z"
    },
    "papermill": {
     "duration": 0.070847,
     "end_time": "2021-09-08T05:54:28.513232",
     "exception": false,
     "start_time": "2021-09-08T05:54:28.442385",
     "status": "completed"
    },
    "tags": []
   },
   "outputs": [],
   "source": [
    "def post_process_predictions(examples, features, start, end, n_best_size = 20, max_answer_length = 30):\n",
    "    \n",
    "    all_start_logits, all_end_logits = start, end\n",
    "    # Build a map example to its corresponding features.\n",
    "    example_id_to_index = {k: i for i, k in enumerate(examples['id'])}\n",
    "    features_per_example = collections.defaultdict(list)\n",
    "    \n",
    "    for i, feature in enumerate(features['example_id']):\n",
    "        features_per_example[example_id_to_index[feature]].append(i)\n",
    "\n",
    "    # The dictionaries we have to fill.\n",
    "    predictions = collections.OrderedDict()\n",
    "\n",
    "    # Logging.\n",
    "    print(f\"Post-processing {len(examples)} example predictions split into {len(features['input_ids'])} features.\")\n",
    "\n",
    "    # Let's loop over all the examples!\n",
    "    for example_index, example in examples.iterrows():\n",
    "        # Those are the indices of the features associated to the current example.\n",
    "        feature_indices = features_per_example[example_index]\n",
    "        min_null_score = None # Only used if squad_v2 is True.\n",
    "        valid_answers = []\n",
    "        \n",
    "        context = example['context']\n",
    "        # Looping through all the features associated to the current example.\n",
    "        for feature_index in feature_indices:\n",
    "            # We grab the predictions of the model for this feature.\n",
    "            start_logits = all_start_logits[feature_index]\n",
    "            end_logits = all_end_logits[feature_index]\n",
    "            # This is what will allow us to map some the positions in our logits to span of texts in the original\n",
    "            # context.\n",
    "            offset_mapping = features['offset_mapping'][feature_index]\n",
    "\n",
    "            # Update minimum null prediction.\n",
    "            cls_index = features['input_ids'][feature_index].index(tokenizer.cls_token_id)\n",
    "            feature_null_score = start_logits[cls_index] + end_logits[cls_index]\n",
    "            if min_null_score is None or min_null_score < feature_null_score:\n",
    "                min_null_score = feature_null_score\n",
    "\n",
    "            # Go through all possibilities for the `n_best_size` greater start and end logits.\n",
    "            start_indexes = np.argsort(start_logits)[-1 : -n_best_size - 1 : -1].tolist()\n",
    "            end_indexes = np.argsort(end_logits)[-1 : -n_best_size - 1 : -1].tolist()\n",
    "            for start_index in start_indexes:\n",
    "                for end_index in end_indexes:\n",
    "                    # Don't consider out-of-scope answers, either because the indices are out of bounds or correspond\n",
    "                    # to part of the input_ids that are not in the context.\n",
    "                    if (\n",
    "                        start_index >= len(offset_mapping)\n",
    "                        or end_index >= len(offset_mapping)\n",
    "                        or offset_mapping[start_index] is None\n",
    "                        or offset_mapping[end_index] is None\n",
    "                    ):\n",
    "                        continue\n",
    "                    # Don't consider answers with a length that is either < 0 or > max_answer_length.\n",
    "                    if end_index < start_index or end_index - start_index + 1 > max_answer_length:\n",
    "                        continue\n",
    "\n",
    "                    start_char = offset_mapping[start_index][0]\n",
    "                    end_char = offset_mapping[end_index][1]\n",
    "                    valid_answers.append(\n",
    "                        {\n",
    "                            \"score\": start_logits[start_index] + end_logits[end_index],\n",
    "                            \"text\": context[start_char: end_char]\n",
    "                        }\n",
    "                    )\n",
    "        \n",
    "        if len(valid_answers) > 0:\n",
    "            best_answer = sorted(valid_answers, key = lambda x: x[\"score\"], reverse=True)[0]\n",
    "        else:\n",
    "            # In the very rare edge case we have not a single non-null prediction, we create a fake prediction to avoid\n",
    "            # failure.\n",
    "            best_answer = {\"text\": \"\", \"score\": 0.0}\n",
    "        \n",
    "        # Let's pick our final answer: the best one or the null answer (only for squad_v2)\n",
    "        #if not squad_v2:\n",
    "        #    predictions[example[\"id\"]] = best_answer[\"text\"]\n",
    "        #else:\n",
    "        answer = best_answer[\"text\"] \n",
    "        predictions[example['id']] = answer\n",
    "\n",
    "    return predictions"
   ]
  },
  {
   "cell_type": "markdown",
   "id": "137d1ac0",
   "metadata": {
    "papermill": {
     "duration": 0.052193,
     "end_time": "2021-09-08T05:54:28.621709",
     "exception": false,
     "start_time": "2021-09-08T05:54:28.569516",
     "status": "completed"
    },
    "tags": []
   },
   "source": [
    "# Fine Tune Model"
   ]
  },
  {
   "cell_type": "code",
   "execution_count": 31,
   "id": "af8c215c",
   "metadata": {
    "execution": {
     "iopub.execute_input": "2021-09-08T05:54:28.730191Z",
     "iopub.status.busy": "2021-09-08T05:54:28.729487Z",
     "iopub.status.idle": "2021-09-08T06:13:00.099761Z",
     "shell.execute_reply": "2021-09-08T06:13:00.100782Z",
     "shell.execute_reply.started": "2021-09-08T05:27:36.641229Z"
    },
    "papermill": {
     "duration": 1111.425837,
     "end_time": "2021-09-08T06:13:00.101105",
     "exception": false,
     "start_time": "2021-09-08T05:54:28.675268",
     "status": "completed"
    },
    "tags": []
   },
   "outputs": [
    {
     "name": "stdout",
     "output_type": "stream",
     "text": [
      " time starting 4.124641418457031e-05\n",
      " built all datasets 105.726145029068\n",
      "built model 199.84664225578308 \n",
      "Epoch 1/4\n",
      "493/493 [==============================] - 372s 469ms/step - loss: 5.7645 - start_positions_loss: 2.8042 - end_positions_loss: 2.9603\n",
      "\n",
      "Epoch 00001: loss improved from inf to 3.95828, saving model to qa_model_2.h5\n",
      "Epoch 2/4\n",
      "493/493 [==============================] - 148s 300ms/step - loss: 1.9718 - start_positions_loss: 0.8725 - end_positions_loss: 1.0993\n",
      "\n",
      "Epoch 00002: loss improved from 3.95828 to 2.01447, saving model to qa_model_2.h5\n",
      "Epoch 3/4\n",
      "493/493 [==============================] - 149s 301ms/step - loss: 1.3295 - start_positions_loss: 0.5706 - end_positions_loss: 0.7589\n",
      "\n",
      "Epoch 00003: loss improved from 2.01447 to 1.38875, saving model to qa_model_2.h5\n",
      "Epoch 4/4\n",
      "493/493 [==============================] - 149s 300ms/step - loss: 0.8948 - start_positions_loss: 0.3642 - end_positions_loss: 0.5305\n",
      "\n",
      "Epoch 00004: loss improved from 1.38875 to 0.92593, saving model to qa_model_2.h5\n",
      "Predicting valid dataset...\n",
      "158/158 [==============================] - 39s 207ms/step\n",
      "Post-process predictions...\n",
      "Post-processing 557 example predictions split into 5045 features.\n",
      "Jaccard Score for fold 2: 0.5914020250645027\n"
     ]
    }
   ],
   "source": [
    "t1= time()\n",
    "print(f\" time starting {time()-t1}\")\n",
    "start_probs, end_probs = [], []\n",
    "jaccard_scores=[]\n",
    "fold =1\n",
    "epochs = hparams['EPOCHS']\n",
    "train_df = train[train['kfold'] != fold]\n",
    "valid_df = train[train['kfold'] == fold]\n",
    "#concat external_df to train_df for training, no change in valid_df\n",
    "train_df = pd.concat([train_df.iloc[:, 1:-1], external_df])\n",
    "train_df = train_df.reset_index(drop = True)\n",
    "valid_df = valid_df.reset_index(drop = True) \n",
    "train_dataset, train_enc = build_tf_dataset(train_df, batch_size = batch_size, flag = 'train')\n",
    "valid_dataset, valid_enc = build_tf_dataset(valid_df, batch_size = batch_size, flag = 'valid')\n",
    "print(f\" built all datasets {time()-t1}\")\n",
    "\n",
    "K.clear_session()\n",
    "with strategy.scope():\n",
    "    model = build_model()\n",
    "    \n",
    "print(f\"built model {time()-t1} \")\n",
    "checkpoint = tf.keras.callbacks.ModelCheckpoint(f'qa_model_{fold + 1}.h5', verbose = 1, monitor = 'loss', mode = 'min', save_best_only = True, \n",
    "                                                save_weights_only = True)\n",
    "\n",
    "history = model.fit(train_dataset, \n",
    "                        epochs = 4, \n",
    "                        batch_size = batch_size,\n",
    "                        callbacks = [checkpoint],\n",
    "                        verbose = 1\n",
    "                        )\n",
    "print('Predicting valid dataset...')\n",
    "start_pred, end_pred = model.predict(valid_dataset, batch_size = batch_size, verbose = 1)\n",
    "print('Post-process predictions...')\n",
    "valid_preds = post_process_predictions(valid_df, valid_enc, start_pred, end_pred)\n",
    "    \n",
    "score = []\n",
    "for idx in range(len(valid_df)):\n",
    "    str1 = valid_df['answer_text'].values[idx]\n",
    "    str2 = valid_preds[valid_df.loc[idx, 'id']]\n",
    "    score.append(jaccard(str1, str2))\n",
    "print(f'Jaccard Score for fold {fold + 1}: {np.mean(score)}')\n",
    "jaccard_scores.append(np.mean(score))\n",
    "    \n",
    "start_probs.append(start_pred)\n",
    "end_probs.append(end_pred)\n",
    "\n"
   ]
  },
  {
   "cell_type": "code",
   "execution_count": 32,
   "id": "252be9a6",
   "metadata": {
    "_kg_hide-input": true,
    "execution": {
     "iopub.execute_input": "2021-09-08T06:13:01.536511Z",
     "iopub.status.busy": "2021-09-08T06:13:01.535827Z",
     "iopub.status.idle": "2021-09-08T06:13:01.539901Z",
     "shell.execute_reply": "2021-09-08T06:13:01.540359Z",
     "shell.execute_reply.started": "2021-09-06T02:58:00.056813Z"
    },
    "papermill": {
     "duration": 0.712329,
     "end_time": "2021-09-08T06:13:01.540529",
     "exception": false,
     "start_time": "2021-09-08T06:13:00.828200",
     "status": "completed"
    },
    "tags": []
   },
   "outputs": [],
   "source": [
    "# strart_probs, end_probs = [], []\n",
    "# epochs = hparams['EPOCHS']\n",
    "# jaccard_scores = []\n",
    "\n",
    "\n",
    "# for i, fold in enumerate(range(n_folds)):\n",
    "#     print('=======' * 15)\n",
    "#     print(f\"Fold: {fold + 1}\")\n",
    "#     print('=======' * 15)\n",
    "#     train_df = train[train['kfold'] != fold]\n",
    "#     valid_df = train[train['kfold'] == fold]\n",
    "    \n",
    "#     #concat external_df to train_df for training, no change in valid_df\n",
    "#     train_df = pd.concat([train_df.iloc[:, 1:-1], external_df])\n",
    "\n",
    "#     train_df = train_df.reset_index(drop = True)\n",
    "#     valid_df = valid_df.reset_index(drop = True)    \n",
    "#     train_dataset, train_enc = build_tf_dataset(train_df, batch_size = batch_size, flag = 'train')\n",
    "#     valid_dataset, valid_enc = build_tf_dataset(valid_df, batch_size = batch_size, flag = 'valid')\n",
    "    \n",
    "    \n",
    "#     K.clear_session()\n",
    "#     with strategy.scope():\n",
    "#         model = build_model()\n",
    "#     if i == 0:\n",
    "#         print(model.summary())\n",
    "    \n",
    "#     checkpoint = tf.keras.callbacks.ModelCheckpoint(f'qa_model_{fold + 1}.h5', verbose = 1, monitor = 'loss', mode = 'min', save_best_only = True, \n",
    "#                                                 save_weights_only = True)\n",
    "\n",
    "#     history = model.fit(train_dataset, \n",
    "#                         epochs = 3, \n",
    "#                         batch_size = batch_size,\n",
    "#                         callbacks = [checkpoint],\n",
    "#                         verbose = 1\n",
    "#                         )\n",
    "#     print('Predicting valid dataset...')\n",
    "#     start_pred, end_pred = model.predict(valid_dataset, batch_size = batch_size, verbose = 1)\n",
    "#     print('Post-process predictions...')\n",
    "#     valid_preds = post_process_predictions(valid_df, valid_enc, start_pred, end_pred)\n",
    "    \n",
    "#     score = []\n",
    "#     for idx in range(len(valid_df)):\n",
    "#         str1 = valid_df['answer_text'].values[idx]\n",
    "#         str2 = valid_preds[valid_df.loc[idx, 'id']]\n",
    "#         score.append(jaccard(str1, str2))\n",
    "#     print(f'Jaccard Score for fold {fold + 1}: {np.mean(score)}')\n",
    "#     jaccard_scores.append(np.mean(score))\n",
    "    \n",
    "#     strart_probs.append(start_pred)\n",
    "#     end_probs.append(end_pred)\n",
    "    \n",
    "#     del train_dataset, valid_dataset, model\n",
    "#     gc.collect()"
   ]
  },
  {
   "cell_type": "markdown",
   "id": "3302654a",
   "metadata": {
    "papermill": {
     "duration": 0.726053,
     "end_time": "2021-09-08T06:13:03.018064",
     "exception": false,
     "start_time": "2021-09-08T06:13:02.292011",
     "status": "completed"
    },
    "tags": []
   },
   "source": [
    "Save the hyperparameters and the validation scores for prediction notebook"
   ]
  },
  {
   "cell_type": "code",
   "execution_count": 33,
   "id": "33128034",
   "metadata": {
    "execution": {
     "iopub.execute_input": "2021-09-08T06:13:04.454777Z",
     "iopub.status.busy": "2021-09-08T06:13:04.454017Z",
     "iopub.status.idle": "2021-09-08T06:13:04.460725Z",
     "shell.execute_reply": "2021-09-08T06:13:04.461266Z",
     "shell.execute_reply.started": "2021-09-06T02:58:00.065585Z"
    },
    "papermill": {
     "duration": 0.709963,
     "end_time": "2021-09-08T06:13:04.461442",
     "exception": false,
     "start_time": "2021-09-08T06:13:03.751479",
     "status": "completed"
    },
    "tags": []
   },
   "outputs": [],
   "source": [
    "hparams['JAC_SCORES'] = jaccard_scores\n",
    "\n",
    "with open(r'hparams.yaml', 'w') as f:\n",
    "    yaml.dump(hparams, f)"
   ]
  },
  {
   "cell_type": "markdown",
   "id": "74570fb7",
   "metadata": {
    "papermill": {
     "duration": 0.705876,
     "end_time": "2021-09-08T06:13:05.874208",
     "exception": false,
     "start_time": "2021-09-08T06:13:05.168332",
     "status": "completed"
    },
    "tags": []
   },
   "source": [
    "# Predict on Test Data"
   ]
  },
  {
   "cell_type": "code",
   "execution_count": 34,
   "id": "5382c8c2",
   "metadata": {
    "execution": {
     "iopub.execute_input": "2021-09-08T06:13:07.291104Z",
     "iopub.status.busy": "2021-09-08T06:13:07.290301Z",
     "iopub.status.idle": "2021-09-08T06:13:07.725719Z",
     "shell.execute_reply": "2021-09-08T06:13:07.724965Z",
     "shell.execute_reply.started": "2021-09-06T02:58:00.084889Z"
    },
    "papermill": {
     "duration": 1.147212,
     "end_time": "2021-09-08T06:13:07.725889",
     "exception": false,
     "start_time": "2021-09-08T06:13:06.578677",
     "status": "completed"
    },
    "tags": []
   },
   "outputs": [],
   "source": [
    "test_dataset, test_enc = build_tf_dataset(test, batch_size = batch_size, flag = 'valid')"
   ]
  },
  {
   "cell_type": "code",
   "execution_count": 35,
   "id": "1d917a32",
   "metadata": {
    "execution": {
     "iopub.execute_input": "2021-09-08T06:13:09.148499Z",
     "iopub.status.busy": "2021-09-08T06:13:09.147738Z",
     "iopub.status.idle": "2021-09-08T06:13:20.041850Z",
     "shell.execute_reply": "2021-09-08T06:13:20.042428Z",
     "shell.execute_reply.started": "2021-09-06T02:58:00.529771Z"
    },
    "papermill": {
     "duration": 11.605005,
     "end_time": "2021-09-08T06:13:20.042637",
     "exception": false,
     "start_time": "2021-09-08T06:13:08.437632",
     "status": "completed"
    },
    "tags": []
   },
   "outputs": [
    {
     "name": "stdout",
     "output_type": "stream",
     "text": [
      "2/2 [==============================] - 11s 10s/step\n",
      "(45, 512) (45, 512)\n"
     ]
    }
   ],
   "source": [
    "start_probs, end_probs = [], []\n",
    "start_pred, end_pred = model.predict(test_dataset, batch_size = batch_size, verbose = 1)\n",
    "print(start_pred.shape, end_pred.shape)\n",
    "start_probs.append(start_pred)\n",
    "end_probs.append(end_pred)"
   ]
  },
  {
   "cell_type": "code",
   "execution_count": 36,
   "id": "78cf6e5b",
   "metadata": {
    "execution": {
     "iopub.execute_input": "2021-09-08T06:13:21.460872Z",
     "iopub.status.busy": "2021-09-08T06:13:21.460225Z",
     "iopub.status.idle": "2021-09-08T06:13:21.462890Z",
     "shell.execute_reply": "2021-09-08T06:13:21.463398Z",
     "shell.execute_reply.started": "2021-09-06T02:58:11.743909Z"
    },
    "papermill": {
     "duration": 0.715328,
     "end_time": "2021-09-08T06:13:21.463590",
     "exception": false,
     "start_time": "2021-09-08T06:13:20.748262",
     "status": "completed"
    },
    "tags": []
   },
   "outputs": [],
   "source": [
    "# start_probs, end_probs = [], []\n",
    "# for fold in range(n_folds):\n",
    "#     with strategy.scope():\n",
    "#         model = build_model()\n",
    "#     print('Loading trained model weights...')\n",
    "#     model.load_weights(f'qa_model_{fold + 1}.h5')\n",
    "#     print(f'Predicting testset - Fold: {fold + 1}...')\n",
    "#     start_pred, end_pred = model.predict(test_dataset, batch_size = batch_size, verbose = 1)\n",
    "#     print(start_pred.shape, end_pred.shape)\n",
    "#     start_probs.append(start_pred)\n",
    "#     end_probs.append(end_pred)"
   ]
  },
  {
   "cell_type": "code",
   "execution_count": 37,
   "id": "3d14eb9f",
   "metadata": {
    "execution": {
     "iopub.execute_input": "2021-09-08T06:13:22.907154Z",
     "iopub.status.busy": "2021-09-08T06:13:22.906437Z",
     "iopub.status.idle": "2021-09-08T06:13:22.930643Z",
     "shell.execute_reply": "2021-09-08T06:13:22.929716Z",
     "shell.execute_reply.started": "2021-09-06T02:58:11.749889Z"
    },
    "papermill": {
     "duration": 0.760636,
     "end_time": "2021-09-08T06:13:22.930838",
     "exception": false,
     "start_time": "2021-09-08T06:13:22.170202",
     "status": "completed"
    },
    "tags": []
   },
   "outputs": [
    {
     "name": "stdout",
     "output_type": "stream",
     "text": [
      "Post-processing 5 example predictions split into 45 features.\n"
     ]
    }
   ],
   "source": [
    "test_start_probs, test_end_probs = np.mean(start_probs, axis = 0), np.mean(end_probs, axis = 0)\n",
    "predictions = post_process_predictions(test, test_enc, test_start_probs, test_end_probs)"
   ]
  },
  {
   "cell_type": "code",
   "execution_count": 38,
   "id": "a5bdd2f9",
   "metadata": {
    "execution": {
     "iopub.execute_input": "2021-09-08T06:13:24.393289Z",
     "iopub.status.busy": "2021-09-08T06:13:24.392557Z",
     "iopub.status.idle": "2021-09-08T06:13:24.406623Z",
     "shell.execute_reply": "2021-09-08T06:13:24.407115Z",
     "shell.execute_reply.started": "2021-09-06T02:58:11.784807Z"
    },
    "papermill": {
     "duration": 0.723988,
     "end_time": "2021-09-08T06:13:24.407306",
     "exception": false,
     "start_time": "2021-09-08T06:13:23.683318",
     "status": "completed"
    },
    "tags": []
   },
   "outputs": [
    {
     "data": {
      "text/html": [
       "<div>\n",
       "<style scoped>\n",
       "    .dataframe tbody tr th:only-of-type {\n",
       "        vertical-align: middle;\n",
       "    }\n",
       "\n",
       "    .dataframe tbody tr th {\n",
       "        vertical-align: top;\n",
       "    }\n",
       "\n",
       "    .dataframe thead th {\n",
       "        text-align: right;\n",
       "    }\n",
       "</style>\n",
       "<table border=\"1\" class=\"dataframe\">\n",
       "  <thead>\n",
       "    <tr style=\"text-align: right;\">\n",
       "      <th></th>\n",
       "      <th>id</th>\n",
       "      <th>PredictionString</th>\n",
       "    </tr>\n",
       "  </thead>\n",
       "  <tbody>\n",
       "    <tr>\n",
       "      <th>0</th>\n",
       "      <td>22bff3dec</td>\n",
       "      <td>येलन</td>\n",
       "    </tr>\n",
       "    <tr>\n",
       "      <th>1</th>\n",
       "      <td>282758170</td>\n",
       "      <td>गूगल मानचित्र (Google Maps) (पूर्व में गूगल लो...</td>\n",
       "    </tr>\n",
       "    <tr>\n",
       "      <th>2</th>\n",
       "      <td>d60987e0e</td>\n",
       "      <td>१२ मार्च १८२४</td>\n",
       "    </tr>\n",
       "    <tr>\n",
       "      <th>3</th>\n",
       "      <td>f99c770dc</td>\n",
       "      <td>13</td>\n",
       "    </tr>\n",
       "    <tr>\n",
       "      <th>4</th>\n",
       "      <td>40dec1964</td>\n",
       "      <td>சுவாமிநாதன் மற்றும் வர்கீஸ் குரியன்</td>\n",
       "    </tr>\n",
       "  </tbody>\n",
       "</table>\n",
       "</div>"
      ],
      "text/plain": [
       "          id                                   PredictionString\n",
       "0  22bff3dec                                               येलन\n",
       "1  282758170  गूगल मानचित्र (Google Maps) (पूर्व में गूगल लो...\n",
       "2  d60987e0e                                      १२ मार्च १८२४\n",
       "3  f99c770dc                                                 13\n",
       "4  40dec1964                சுவாமிநாதன் மற்றும் வர்கீஸ் குரியன்"
      ]
     },
     "execution_count": 38,
     "metadata": {},
     "output_type": "execute_result"
    }
   ],
   "source": [
    "sub_df = pd.DataFrame({'id': list(predictions.keys()), 'PredictionString': list(predictions.values())})\n",
    "sub_df.to_csv('./submission.csv', index = False)\n",
    "sub_df.head()"
   ]
  },
  {
   "cell_type": "markdown",
   "id": "31ee9022",
   "metadata": {
    "papermill": {
     "duration": 0.702589,
     "end_time": "2021-09-08T06:13:25.823695",
     "exception": false,
     "start_time": "2021-09-08T06:13:25.121106",
     "status": "completed"
    },
    "tags": []
   },
   "source": [
    "Thanks to Kaggle and fellow Kagglers for the all the learnings, nothing beats doing and learning!!!"
   ]
  },
  {
   "cell_type": "code",
   "execution_count": null,
   "id": "093fb8a1",
   "metadata": {
    "papermill": {
     "duration": 0.707327,
     "end_time": "2021-09-08T06:13:27.236415",
     "exception": false,
     "start_time": "2021-09-08T06:13:26.529088",
     "status": "completed"
    },
    "tags": []
   },
   "outputs": [],
   "source": []
  }
 ],
 "metadata": {
  "kernelspec": {
   "display_name": "Python 3",
   "language": "python",
   "name": "python3"
  },
  "language_info": {
   "codemirror_mode": {
    "name": "ipython",
    "version": 3
   },
   "file_extension": ".py",
   "mimetype": "text/x-python",
   "name": "python",
   "nbconvert_exporter": "python",
   "pygments_lexer": "ipython3",
   "version": "3.7.10"
  },
  "papermill": {
   "default_parameters": {},
   "duration": 1215.127769,
   "end_time": "2021-09-08T06:13:30.654778",
   "environment_variables": {},
   "exception": null,
   "input_path": "__notebook__.ipynb",
   "output_path": "__notebook__.ipynb",
   "parameters": {},
   "start_time": "2021-09-08T05:53:15.527009",
   "version": "2.3.3"
  }
 },
 "nbformat": 4,
 "nbformat_minor": 5
}
